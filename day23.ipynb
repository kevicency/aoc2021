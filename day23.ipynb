{
 "cells": [
  {
   "cell_type": "code",
   "execution_count": 25,
   "metadata": {
    "collapsed": true
   },
   "outputs": [],
   "source": [
    "from aoc import submit\n",
    "\n",
    "DAY = 23"
   ]
  },
  {
   "cell_type": "code",
   "execution_count": 26,
   "outputs": [
    {
     "name": "stdout",
     "output_type": "stream",
     "text": [
      "part_one:\n",
      "✅ input:   11516          (0.26 ms)\n"
     ]
    }
   ],
   "source": [
    "@submit(day=DAY, skip_example=True)\n",
    "def part_one(raw):\n",
    "    # Solved by hand\n",
    "    return 11516"
   ],
   "metadata": {
    "collapsed": false,
    "pycharm": {
     "name": "#%%\n"
    }
   }
  },
  {
   "cell_type": "code",
   "execution_count": 27,
   "outputs": [
    {
     "name": "stdout",
     "output_type": "stream",
     "text": [
      "part_two:\n",
      "✅ input:   40272          (0.18 ms)\n"
     ]
    }
   ],
   "source": [
    "@submit(day=DAY, skip_example=True)\n",
    "def part_two(raw):\n",
    "    # Solved by hand\n",
    "    return 40272"
   ],
   "metadata": {
    "collapsed": false,
    "pycharm": {
     "name": "#%%\n"
    }
   }
  }
 ],
 "metadata": {
  "kernelspec": {
   "display_name": "Python 3",
   "language": "python",
   "name": "python3"
  },
  "language_info": {
   "codemirror_mode": {
    "name": "ipython",
    "version": 2
   },
   "file_extension": ".py",
   "mimetype": "text/x-python",
   "name": "python",
   "nbconvert_exporter": "python",
   "pygments_lexer": "ipython2",
   "version": "2.7.6"
  }
 },
 "nbformat": 4,
 "nbformat_minor": 0
}