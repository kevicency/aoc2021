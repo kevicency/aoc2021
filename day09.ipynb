{
 "cells": [
  {
   "cell_type": "code",
   "execution_count": 9,
   "metadata": {
    "collapsed": true
   },
   "outputs": [],
   "source": [
    "import numpy as np\n",
    "from aoc import submit\n",
    "\n",
    "DAY = 9\n",
    "DIRS = [(-1, 0), (1, 0), (0, -1), (0, 1)]"
   ]
  },
  {
   "cell_type": "code",
   "execution_count": 10,
   "outputs": [
    {
     "name": "stdout",
     "output_type": "stream",
     "text": [
      "part_one:\n",
      "⏩ example: no input       (skipped)\n",
      "✅ input:   480            (89.19 ms)\n"
     ]
    }
   ],
   "source": [
    "def parse_input(raw):\n",
    "    data = np.array([[int(c) for c in line] for line in raw.splitlines()])\n",
    "    return np.pad(data, 1, constant_values=9)\n",
    "\n",
    "\n",
    "def neighbours(grid, x, y):\n",
    "    for x, y in [(x + dx, y + dy) for (dx, dy) in DIRS]:\n",
    "        yield grid[y, x], (x, y)\n",
    "\n",
    "\n",
    "def low_points(grid):\n",
    "    for (y, x), v in np.ndenumerate(grid[1:-1, 1:-1]):\n",
    "        if np.all([n > v for n, _ in neighbours(grid, x + 1, y + 1)]):\n",
    "            yield v, (x + 1, y + 1)\n",
    "\n",
    "\n",
    "@submit(day=DAY)\n",
    "def part_one(raw):\n",
    "    return sum(n + 1 for n, _ in low_points(parse_input(raw)))"
   ],
   "metadata": {
    "collapsed": false,
    "pycharm": {
     "name": "#%%\n"
    }
   }
  },
  {
   "cell_type": "code",
   "execution_count": 11,
   "outputs": [
    {
     "name": "stdout",
     "output_type": "stream",
     "text": [
      "part_two:\n",
      "⏩ example: no input       (skipped)\n",
      "✅ input:   1045660        (157.24 ms)\n"
     ]
    }
   ],
   "source": [
    "def generate_basin(grid, value, x, y):\n",
    "    return {(x, y)}.union(*[\n",
    "        generate_basin(grid, n, x, y) for n, (x, y) in neighbours(grid, x, y) if value < n < 9\n",
    "    ])\n",
    "\n",
    "\n",
    "@submit(day=DAY)\n",
    "def part_two(raw):\n",
    "    grid = parse_input(raw)\n",
    "    basins = [generate_basin(grid, value, x, y) for value, (x, y) in low_points(grid)]\n",
    "    return np.prod(sorted([len(basin) for basin in basins])[-3:])"
   ],
   "metadata": {
    "collapsed": false,
    "pycharm": {
     "name": "#%%\n"
    }
   }
  }
 ],
 "metadata": {
  "kernelspec": {
   "display_name": "Python 3",
   "language": "python",
   "name": "python3"
  },
  "language_info": {
   "codemirror_mode": {
    "name": "ipython",
    "version": 2
   },
   "file_extension": ".py",
   "mimetype": "text/x-python",
   "name": "python",
   "nbconvert_exporter": "python",
   "pygments_lexer": "ipython2",
   "version": "2.7.6"
  }
 },
 "nbformat": 4,
 "nbformat_minor": 0
}