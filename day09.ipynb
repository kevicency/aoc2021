{
 "cells": [
  {
   "cell_type": "code",
   "execution_count": 89,
   "metadata": {
    "collapsed": true
   },
   "outputs": [],
   "source": [
    "import numpy as np\n",
    "from aoc import submit, raw\n",
    "\n",
    "DAY = 9\n",
    "INPUT = np.array([[int(c) for c in line] for line in raw(day=DAY).splitlines()])\n",
    "MAP = np.pad(INPUT, 1, constant_values=9)\n",
    "DIRS = [(-1, 0), (1, 0), (0, -1), (0, 1)]"
   ]
  },
  {
   "cell_type": "code",
   "execution_count": 97,
   "outputs": [
    {
     "name": "stdout",
     "output_type": "stream",
     "text": [
      "part_one: 480 (85.48 ms)\n",
      "✅ That's the right answer!\n"
     ]
    }
   ],
   "source": [
    "def neighbours(x, y):\n",
    "    for x, y in [(x + dx, y + dy) for (dx, dy) in DIRS]:\n",
    "        yield MAP[y, x], (x, y)\n",
    "\n",
    "def low_points():\n",
    "    for (y, x), v in np.ndenumerate(MAP[1:-1, 1:-1]):\n",
    "        if np.all([n > v for n, _ in neighbours(x + 1, y + 1)]):\n",
    "            yield v, (x + 1, y + 1)\n",
    "\n",
    "\n",
    "@submit(day=DAY)\n",
    "def part_one():\n",
    "    return sum(n + 1 for n, _ in low_points())"
   ],
   "metadata": {
    "collapsed": false,
    "pycharm": {
     "name": "#%%\n"
    }
   }
  },
  {
   "cell_type": "code",
   "execution_count": 96,
   "outputs": [
    {
     "name": "stdout",
     "output_type": "stream",
     "text": [
      "part_two: 1045660 (142.51 ms)\n",
      "✅ That's the right answer!\n"
     ]
    }
   ],
   "source": [
    "def generate_basin(v, x, y):\n",
    "    return {(x, y)}.union(*[\n",
    "        generate_basin(n, x, y) for n, (x, y) in neighbours(x, y) if v < n < 9\n",
    "    ])\n",
    "\n",
    "\n",
    "@submit(day=DAY)\n",
    "def part_two():\n",
    "    basins = [generate_basin(v, x, y) for v, (x, y) in low_points()]\n",
    "    return np.prod(sorted([len(basin) for basin in basins])[-3:])"
   ],
   "metadata": {
    "collapsed": false,
    "pycharm": {
     "name": "#%%\n"
    }
   }
  }
 ],
 "metadata": {
  "kernelspec": {
   "display_name": "Python 3",
   "language": "python",
   "name": "python3"
  },
  "language_info": {
   "codemirror_mode": {
    "name": "ipython",
    "version": 2
   },
   "file_extension": ".py",
   "mimetype": "text/x-python",
   "name": "python",
   "nbconvert_exporter": "python",
   "pygments_lexer": "ipython2",
   "version": "2.7.6"
  }
 },
 "nbformat": 4,
 "nbformat_minor": 0
}