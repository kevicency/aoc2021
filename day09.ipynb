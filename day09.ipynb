{
 "cells": [
  {
   "cell_type": "code",
   "execution_count": 78,
   "metadata": {
    "collapsed": true
   },
   "outputs": [],
   "source": [
    "import numpy as np\n",
    "from aoc import submit, raw\n",
    "\n",
    "DAY = 9\n",
    "INPUT = np.array([[int(c) for c in line] for line in raw(day=DAY).splitlines()])\n",
    "DIRS = [(-1, 0), (1, 0), (0, -1), (0, 1)]"
   ]
  },
  {
   "cell_type": "code",
   "execution_count": 79,
   "outputs": [
    {
     "name": "stdout",
     "output_type": "stream",
     "text": [
      "part_one: 480 (92.01 ms)\n",
      "✅ That's the right answer!\n"
     ]
    }
   ],
   "source": [
    "def neighbours(hmap, x, y):\n",
    "    for x, y in [(x + dx, y + dy) for (dx, dy) in DIRS]:\n",
    "        yield hmap[y, x], (x, y)\n",
    "\n",
    "def low_points(hmap):\n",
    "    for (y, x), v in np.ndenumerate(INPUT):\n",
    "        (y, x) = (y + 1), (x + 1)\n",
    "        if np.all([n > v for n, _ in neighbours(hmap, x, y)]):\n",
    "            yield v, (x, y)\n",
    "\n",
    "\n",
    "@submit(day=DAY)\n",
    "def part_one():\n",
    "    hmap = np.pad(INPUT, 1, constant_values=9)\n",
    "    return sum(n + 1 for n, _ in low_points(hmap))"
   ],
   "metadata": {
    "collapsed": false,
    "pycharm": {
     "name": "#%%\n"
    }
   }
  },
  {
   "cell_type": "code",
   "execution_count": 80,
   "outputs": [
    {
     "name": "stdout",
     "output_type": "stream",
     "text": [
      "part_two: 1045660 (138.39 ms)\n",
      "✅ That's the right answer!\n"
     ]
    }
   ],
   "source": [
    "def grow_basin(hmap, v, x, y):\n",
    "    return {(x, y)}.union(*[\n",
    "        grow_basin(hmap, n, x, y) for n, (x, y) in neighbours(hmap, x, y) if v < n < 9\n",
    "    ])\n",
    "\n",
    "\n",
    "@submit(day=DAY)\n",
    "def part_two():\n",
    "    hmap = np.pad(INPUT, 1, constant_values=9)\n",
    "    basins = [grow_basin(hmap, n, x, y) for n, (x, y) in low_points(hmap)]\n",
    "    return np.prod(sorted([len(basin) for basin in basins])[-3:])"
   ],
   "metadata": {
    "collapsed": false,
    "pycharm": {
     "name": "#%%\n"
    }
   }
  }
 ],
 "metadata": {
  "kernelspec": {
   "display_name": "Python 3",
   "language": "python",
   "name": "python3"
  },
  "language_info": {
   "codemirror_mode": {
    "name": "ipython",
    "version": 2
   },
   "file_extension": ".py",
   "mimetype": "text/x-python",
   "name": "python",
   "nbconvert_exporter": "python",
   "pygments_lexer": "ipython2",
   "version": "2.7.6"
  }
 },
 "nbformat": 4,
 "nbformat_minor": 0
}