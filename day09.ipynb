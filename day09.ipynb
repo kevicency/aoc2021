{
 "cells": [
  {
   "cell_type": "code",
   "execution_count": 49,
   "metadata": {
    "collapsed": true
   },
   "outputs": [],
   "source": [
    "import numpy as np\n",
    "from aoc import submit, raw\n",
    "\n",
    "DAY = 9\n",
    "INPUT = np.array([[int(c) for c in line] for line in raw(day=DAY).splitlines()])\n",
    "DIRS = [(-1, 0), (1, 0), (0, -1), (0, 1)]"
   ]
  },
  {
   "cell_type": "code",
   "execution_count": 47,
   "outputs": [
    {
     "name": "stdout",
     "output_type": "stream",
     "text": [
      "part_one: 480 (85.28 ms)\n",
      "✅ That's the right answer!\n"
     ]
    }
   ],
   "source": [
    "@submit(day=DAY)\n",
    "def part_one():\n",
    "    result = 0\n",
    "    heightmap = np.pad(INPUT, 1, constant_values=9)\n",
    "    for (y, x), n in np.ndenumerate(INPUT):\n",
    "        low_point = np.all([heightmap[y + 1 + dy, x + 1 + dx] > n for (dx, dy) in DIRS])\n",
    "        result += (n + 1) if low_point else 0\n",
    "    return result"
   ],
   "metadata": {
    "collapsed": false,
    "pycharm": {
     "name": "#%%\n"
    }
   }
  },
  {
   "cell_type": "code",
   "execution_count": 50,
   "outputs": [
    {
     "name": "stdout",
     "output_type": "stream",
     "text": [
      "part_two: 1045660 (116.90 ms)\n",
      "✅ That's the right answer!\n"
     ]
    }
   ],
   "source": [
    "def grow_basin(heightmap, basin, n, x, y):\n",
    "    basin.add((x, y))\n",
    "    for (x, y) in [(x + dx, y + dy) for (dx, dy) in DIRS]:\n",
    "        m = heightmap[y, x]\n",
    "        basin = grow_basin(heightmap, basin, m, x, y) if n < m < 9 else basin\n",
    "    return basin\n",
    "\n",
    "\n",
    "@submit(day=DAY)\n",
    "def part_two():\n",
    "    basins = []\n",
    "    heightmap = np.pad(INPUT, 1, constant_values=9)\n",
    "    for (y, x), n in np.ndenumerate(INPUT):\n",
    "        (y, x) = (y + 1), (x + 1)\n",
    "        low_point = np.all([heightmap[y + dy, x + dx] > n for (dx, dy) in DIRS])\n",
    "        if low_point:\n",
    "            basins.append(grow_basin(heightmap, set(), n, x, y))\n",
    "\n",
    "    return np.prod(sorted([len(basin) for basin in basins])[-3:])"
   ],
   "metadata": {
    "collapsed": false,
    "pycharm": {
     "name": "#%%\n"
    }
   }
  }
 ],
 "metadata": {
  "kernelspec": {
   "display_name": "Python 3",
   "language": "python",
   "name": "python3"
  },
  "language_info": {
   "codemirror_mode": {
    "name": "ipython",
    "version": 2
   },
   "file_extension": ".py",
   "mimetype": "text/x-python",
   "name": "python",
   "nbconvert_exporter": "python",
   "pygments_lexer": "ipython2",
   "version": "2.7.6"
  }
 },
 "nbformat": 4,
 "nbformat_minor": 0
}