{
 "cells": [
  {
   "cell_type": "code",
   "execution_count": 26,
   "metadata": {
    "collapsed": true
   },
   "outputs": [],
   "source": [
    "from scipy.ndimage import correlate\n",
    "from aoc import submit\n",
    "import numpy as np\n",
    "\n",
    "DAY = 20"
   ]
  },
  {
   "cell_type": "code",
   "execution_count": 55,
   "outputs": [
    {
     "name": "stdout",
     "output_type": "stream",
     "text": [
      "part_one:\n",
      "✅ example: 35             (0.32 ms)\n",
      "✅ input:   5359           (1.84 ms)\n"
     ]
    }
   ],
   "source": [
    "def parse_input(raw):\n",
    "    algo, image = raw.split('\\n\\n')\n",
    "    algo = np.array([c == '#' for c in algo]).astype(int)\n",
    "    image = np.array([[c == '#' for c in line] for line in image.splitlines()]).astype(int)\n",
    "    return algo, image\n",
    "\n",
    "def enhance(image, algo, n):\n",
    "    image = np.pad(image, n)\n",
    "    powers = 2**np.arange(9)[::-1].reshape(3,3)\n",
    "    for _ in range(n):\n",
    "        image = algo[correlate(image, powers)]\n",
    "    return image\n",
    "\n",
    "@submit(day=DAY)\n",
    "def part_one(raw):\n",
    "    algo, image = parse_input(raw)\n",
    "    image = enhance(image, algo, 2)\n",
    "    return image.sum()"
   ],
   "metadata": {
    "collapsed": false,
    "pycharm": {
     "name": "#%%\n"
    }
   }
  },
  {
   "cell_type": "code",
   "execution_count": 58,
   "outputs": [
    {
     "name": "stdout",
     "output_type": "stream",
     "text": [
      "part_two:\n",
      "✅ example: 3351           (9.79 ms)\n",
      "✅ input:   12333          (23.60 ms)\n"
     ]
    }
   ],
   "source": [
    "@submit(day=DAY)\n",
    "def part_two(raw):\n",
    "    algo, image = parse_input(raw)\n",
    "    image = enhance(image, algo, 50)\n",
    "    return image.sum()"
   ],
   "metadata": {
    "collapsed": false,
    "pycharm": {
     "name": "#%%\n"
    }
   }
  }
 ],
 "metadata": {
  "kernelspec": {
   "display_name": "Python 3",
   "language": "python",
   "name": "python3"
  },
  "language_info": {
   "codemirror_mode": {
    "name": "ipython",
    "version": 2
   },
   "file_extension": ".py",
   "mimetype": "text/x-python",
   "name": "python",
   "nbconvert_exporter": "python",
   "pygments_lexer": "ipython2",
   "version": "2.7.6"
  }
 },
 "nbformat": 4,
 "nbformat_minor": 0
}