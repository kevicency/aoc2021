{
 "cells": [
  {
   "cell_type": "code",
   "execution_count": 6,
   "metadata": {
    "collapsed": true
   },
   "outputs": [],
   "source": [
    "import re\n",
    "from utils import timed, raw\n",
    "\n",
    "DAY = 2\n",
    "commands = [(move, int(x)) for move, x in re.findall(r\"(\\w+) (\\d+)\", raw(day=DAY))]"
   ]
  },
  {
   "cell_type": "code",
   "execution_count": 7,
   "outputs": [
    {
     "name": "stdout",
     "output_type": "stream",
     "text": [
      "part_one: 2070300 (0.23 ms)\n"
     ]
    }
   ],
   "source": [
    "@timed()\n",
    "def part_one():\n",
    "    pos = depth = 0\n",
    "    for move, x in commands:\n",
    "        if move == 'forward':\n",
    "            pos += x\n",
    "        else:\n",
    "            depth += x * (1 if move == 'down' else -1)\n",
    "    return pos * depth\n",
    "part_one()"
   ],
   "metadata": {
    "collapsed": false,
    "pycharm": {
     "name": "#%%\n"
    }
   }
  },
  {
   "cell_type": "code",
   "execution_count": 8,
   "outputs": [
    {
     "name": "stdout",
     "output_type": "stream",
     "text": [
      "part_two: 2078985210 (0.36 ms)\n"
     ]
    }
   ],
   "source": [
    "@timed()\n",
    "def part_two():\n",
    "    pos = depth = aim = 0\n",
    "    for move, x in commands:\n",
    "        if move == 'forward':\n",
    "            pos += x\n",
    "            depth += aim * x\n",
    "        else:\n",
    "            aim += x * (1 if move == 'down' else -1)\n",
    "    return pos * depth\n",
    "part_two()"
   ],
   "metadata": {
    "collapsed": false,
    "pycharm": {
     "name": "#%%\n"
    }
   }
  }
 ],
 "metadata": {
  "kernelspec": {
   "display_name": "Python 3",
   "language": "python",
   "name": "python3"
  },
  "language_info": {
   "codemirror_mode": {
    "name": "ipython",
    "version": 2
   },
   "file_extension": ".py",
   "mimetype": "text/x-python",
   "name": "python",
   "nbconvert_exporter": "python",
   "pygments_lexer": "ipython2",
   "version": "2.7.6"
  }
 },
 "nbformat": 4,
 "nbformat_minor": 0
}