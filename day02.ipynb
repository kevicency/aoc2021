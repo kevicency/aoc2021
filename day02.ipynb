{
 "cells": [
  {
   "cell_type": "code",
   "execution_count": 1,
   "metadata": {
    "collapsed": true
   },
   "outputs": [],
   "source": [
    "import re\n",
    "from aoc import submit\n",
    "\n",
    "DAY = 2"
   ]
  },
  {
   "cell_type": "code",
   "execution_count": 2,
   "outputs": [
    {
     "name": "stdout",
     "output_type": "stream",
     "text": [
      "part_one:\n",
      "✅ example: 150          (0.21 ms)\n",
      "✅ input:   2070300      (1.01 ms)\n"
     ]
    }
   ],
   "source": [
    "def parse_input(raw):\n",
    "    return [(move, int(x)) for move, x in re.findall(r\"(\\w+) (\\d+)\", raw)]\n",
    "\n",
    "\n",
    "@submit(day=DAY)\n",
    "def part_one(raw):\n",
    "    commands = parse_input(raw)\n",
    "    pos = depth = 0\n",
    "    for move, x in commands:\n",
    "        if move == 'forward':\n",
    "            pos += x\n",
    "        else:\n",
    "            depth += x * (1 if move == 'down' else -1)\n",
    "    return pos * depth"
   ],
   "metadata": {
    "collapsed": false,
    "pycharm": {
     "name": "#%%\n"
    }
   }
  },
  {
   "cell_type": "code",
   "execution_count": 3,
   "outputs": [
    {
     "name": "stdout",
     "output_type": "stream",
     "text": [
      "part_two:\n",
      "✅ example: 900          (0.02 ms)\n",
      "✅ input:   2078985210   (1.00 ms)\n"
     ]
    }
   ],
   "source": [
    "@submit(day=DAY)\n",
    "def part_two(raw):\n",
    "    commands = parse_input(raw)\n",
    "    pos = depth = aim = 0\n",
    "    for move, x in commands:\n",
    "        if move == 'forward':\n",
    "            pos += x\n",
    "            depth += aim * x\n",
    "        else:\n",
    "            aim += x * (1 if move == 'down' else -1)\n",
    "    return pos * depth"
   ],
   "metadata": {
    "collapsed": false,
    "pycharm": {
     "name": "#%%\n"
    }
   }
  }
 ],
 "metadata": {
  "kernelspec": {
   "display_name": "Python 3",
   "language": "python",
   "name": "python3"
  },
  "language_info": {
   "codemirror_mode": {
    "name": "ipython",
    "version": 2
   },
   "file_extension": ".py",
   "mimetype": "text/x-python",
   "name": "python",
   "nbconvert_exporter": "python",
   "pygments_lexer": "ipython2",
   "version": "2.7.6"
  }
 },
 "nbformat": 4,
 "nbformat_minor": 0
}