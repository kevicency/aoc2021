{
 "cells": [
  {
   "cell_type": "code",
   "execution_count": 106,
   "metadata": {
    "collapsed": true
   },
   "outputs": [],
   "source": [
    "from utils import timed, raw\n",
    "import numpy as np\n",
    "\n",
    "DAY = 3\n",
    "lines = raw(day=DAY).splitlines()\n",
    "bitcount = len(lines[0])"
   ]
  },
  {
   "cell_type": "code",
   "execution_count": 107,
   "outputs": [
    {
     "name": "stdout",
     "output_type": "stream",
     "text": [
      "part_one: 3374136 (1.33 ms)\n"
     ]
    }
   ],
   "source": [
    "@timed()\n",
    "def part_one():\n",
    "    gamma = 0\n",
    "    for i in range(bitcount):\n",
    "        d = sum([1 if line[i] == '1' else -1 for line in lines])\n",
    "        gamma += (d < 0) << (bitcount - 1 - i)\n",
    "    return gamma * (~gamma & (1 << bitcount) - 1)\n",
    "part_one()"
   ],
   "metadata": {
    "collapsed": false,
    "pycharm": {
     "name": "#%%\n"
    }
   }
  },
  {
   "cell_type": "code",
   "execution_count": 108,
   "outputs": [
    {
     "name": "stdout",
     "output_type": "stream",
     "text": [
      "part_two: 4432698 (1.33 ms)\n"
     ]
    }
   ],
   "source": [
    "values = np.array([int(line, 2) for line in lines])\n",
    "\n",
    "def split(arr, pred):\n",
    "    return arr[pred], arr[~pred]\n",
    "def get_least_and_most_common(arr, n):\n",
    "    flag = 1 << (bitcount - 1 - n)\n",
    "    zeros, ones = split(arr, arr & flag == 0) if len(arr) > 1 else (arr,arr)\n",
    "\n",
    "    return (ones, zeros) if len(ones) >= len(zeros) else (zeros, ones)\n",
    "\n",
    "@timed()\n",
    "def part_two():\n",
    "    oxy = co2 = values\n",
    "    for i in range(bitcount):\n",
    "        least, oxy = get_least_and_most_common(oxy, i)\n",
    "        co2, most = get_least_and_most_common(co2, i)\n",
    "    return oxy[0] * co2[0]\n",
    "part_two()"
   ],
   "metadata": {
    "collapsed": false,
    "pycharm": {
     "name": "#%%\n"
    }
   }
  }
 ],
 "metadata": {
  "kernelspec": {
   "display_name": "Python 3",
   "language": "python",
   "name": "python3"
  },
  "language_info": {
   "codemirror_mode": {
    "name": "ipython",
    "version": 2
   },
   "file_extension": ".py",
   "mimetype": "text/x-python",
   "name": "python",
   "nbconvert_exporter": "python",
   "pygments_lexer": "ipython2",
   "version": "2.7.6"
  }
 },
 "nbformat": 4,
 "nbformat_minor": 0
}