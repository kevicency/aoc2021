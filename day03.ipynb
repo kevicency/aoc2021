{
 "cells": [
  {
   "cell_type": "code",
   "execution_count": 1,
   "metadata": {
    "collapsed": true
   },
   "outputs": [],
   "source": [
    "from aoc import submit\n",
    "import numpy as np\n",
    "\n",
    "DAY = 3"
   ]
  },
  {
   "cell_type": "code",
   "execution_count": 2,
   "outputs": [
    {
     "name": "stdout",
     "output_type": "stream",
     "text": [
      "part_one:\n",
      "✅ example: 198          (0.01 ms)\n",
      "✅ input:   3374136      (1.36 ms)\n"
     ]
    }
   ],
   "source": [
    "def parse_input(raw):\n",
    "    lines = raw.splitlines()\n",
    "    return lines, len(lines[0])\n",
    "\n",
    "\n",
    "@submit(day=DAY)\n",
    "def part_one(raw):\n",
    "    lines, bitcount = parse_input(raw)\n",
    "    gamma = 0\n",
    "    for i in range(bitcount):\n",
    "        d = sum([1 if line[i] == '1' else -1 for line in lines])\n",
    "        gamma += (d < 0) << (bitcount - 1 - i)\n",
    "    return gamma * (~gamma & (1 << bitcount) - 1)"
   ],
   "metadata": {
    "collapsed": false,
    "pycharm": {
     "name": "#%%\n"
    }
   }
  },
  {
   "cell_type": "code",
   "execution_count": 3,
   "outputs": [
    {
     "name": "stdout",
     "output_type": "stream",
     "text": [
      "part_two:\n",
      "✅ example: 230          (0.17 ms)\n",
      "✅ input:   4432698      (0.77 ms)\n"
     ]
    }
   ],
   "source": [
    "def split(arr, pred):\n",
    "    return arr[pred], arr[~pred]\n",
    "\n",
    "\n",
    "def get_least_and_most_common(arr, n, bitcount):\n",
    "    flag = 1 << (bitcount - 1 - n)\n",
    "    zeros, ones = split(arr, arr & flag == 0) if len(arr) > 1 else (arr, arr)\n",
    "\n",
    "    return (ones, zeros) if len(ones) >= len(zeros) else (zeros, ones)\n",
    "\n",
    "\n",
    "@submit(day=DAY)\n",
    "def part_two(raw):\n",
    "    lines, bitcount = parse_input(raw)\n",
    "    values = np.array([int(line, 2) for line in lines])\n",
    "    oxy = co2 = values\n",
    "    for i in range(bitcount):\n",
    "        least, oxy = get_least_and_most_common(oxy, i, bitcount)\n",
    "        co2, most = get_least_and_most_common(co2, i, bitcount)\n",
    "    return oxy[0] * co2[0]"
   ],
   "metadata": {
    "collapsed": false,
    "pycharm": {
     "name": "#%%\n"
    }
   }
  }
 ],
 "metadata": {
  "kernelspec": {
   "display_name": "Python 3",
   "language": "python",
   "name": "python3"
  },
  "language_info": {
   "codemirror_mode": {
    "name": "ipython",
    "version": 2
   },
   "file_extension": ".py",
   "mimetype": "text/x-python",
   "name": "python",
   "nbconvert_exporter": "python",
   "pygments_lexer": "ipython2",
   "version": "2.7.6"
  }
 },
 "nbformat": 4,
 "nbformat_minor": 0
}