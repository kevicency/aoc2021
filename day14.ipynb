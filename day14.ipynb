{
 "cells": [
  {
   "cell_type": "code",
   "execution_count": 10,
   "metadata": {
    "collapsed": true
   },
   "outputs": [],
   "source": [
    "import re\n",
    "from collections import Counter\n",
    "from aoc import submit\n",
    "\n",
    "DAY = 14\n"
   ]
  },
  {
   "cell_type": "code",
   "execution_count": 13,
   "outputs": [
    {
     "name": "stdout",
     "output_type": "stream",
     "text": [
      "part_one:\n",
      "⏩ example: no input       (skipped)\n",
      "✅ input:   2447           (0.83 ms)\n"
     ]
    }
   ],
   "source": [
    "def parse_input(raw):\n",
    "    template, insertions = raw.split('\\n\\n')\n",
    "    insertions = {pair: (pair[0] + insert, insert + pair[1]) for pair, insert in\n",
    "                  re.findall(r\"(\\w\\w) -> (\\w)\", insertions)}\n",
    "    pairs = [x + y for x, y in zip(template, template[1:])]\n",
    "    return Counter(pairs), insertions\n",
    "\n",
    "\n",
    "def step(counter: dict, insertions: dict):\n",
    "    next_counter = {}\n",
    "    for pair, count in counter.items():\n",
    "        for insertion in insertions[pair]:\n",
    "            next_counter.setdefault(insertion, 0)\n",
    "            next_counter[insertion] += count\n",
    "    return next_counter\n",
    "\n",
    "\n",
    "def count_elements(pair_counter: dict, initial):\n",
    "    counter = {initial: 1}\n",
    "    for (_, element), count in pair_counter.items():\n",
    "        counter.setdefault(element, 0)\n",
    "        counter[element] += count\n",
    "    return counter\n",
    "\n",
    "\n",
    "def max_min_delta(counter: dict):\n",
    "    counts = counter.values()\n",
    "    return max(counts) - min(counts)\n",
    "\n",
    "\n",
    "@submit(day=DAY)\n",
    "def part_one(raw):\n",
    "    counter, insertions = parse_input(raw)\n",
    "    for n in range(10):\n",
    "        counter = step(counter, insertions)\n",
    "    return max_min_delta(count_elements(counter, raw[0]))\n"
   ],
   "metadata": {
    "collapsed": false,
    "pycharm": {
     "name": "#%%\n"
    }
   }
  },
  {
   "cell_type": "code",
   "execution_count": 14,
   "outputs": [
    {
     "name": "stdout",
     "output_type": "stream",
     "text": [
      "part_two:\n",
      "⏩ example: no input       (skipped)\n",
      "✅ input:   3018019237563  (2.03 ms)\n"
     ]
    }
   ],
   "source": [
    "\n",
    "@submit(day=DAY)\n",
    "def part_two(raw):\n",
    "    counter, insertions = parse_input(raw)\n",
    "    for n in range(40):\n",
    "        counter = step(counter, insertions)\n",
    "    return max_min_delta(count_elements(counter, raw[0]))"
   ],
   "metadata": {
    "collapsed": false,
    "pycharm": {
     "name": "#%%\n"
    }
   }
  }
 ],
 "metadata": {
  "kernelspec": {
   "display_name": "Python 3",
   "language": "python",
   "name": "python3"
  },
  "language_info": {
   "codemirror_mode": {
    "name": "ipython",
    "version": 2
   },
   "file_extension": ".py",
   "mimetype": "text/x-python",
   "name": "python",
   "nbconvert_exporter": "python",
   "pygments_lexer": "ipython2",
   "version": "2.7.6"
  }
 },
 "nbformat": 4,
 "nbformat_minor": 0
}