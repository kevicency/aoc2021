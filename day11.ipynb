{
 "cells": [
  {
   "cell_type": "code",
   "execution_count": 145,
   "metadata": {
    "collapsed": true
   },
   "outputs": [],
   "source": [
    "from aoc import submit, raw\n",
    "import numpy as np\n",
    "\n",
    "DAY = 11\n",
    "INPUT = np.array([[int(n) for n in line] for line in raw(day=DAY).splitlines()])\n",
    "SIZE = INPUT.shape[0]"
   ]
  },
  {
   "cell_type": "code",
   "execution_count": 146,
   "outputs": [
    {
     "name": "stdout",
     "output_type": "stream",
     "text": [
      "part_one: 1644 (31.18 ms)\n",
      "✅ That's the right answer!\n"
     ]
    }
   ],
   "source": [
    "def neighbours(y, x):\n",
    "    for dx in [-1, 0, 1]:\n",
    "        for dy in [-1, 0, 1]:\n",
    "            (ny, nx) = y + dy, x + dx\n",
    "            if 0 <= nx < SIZE and 0 <= ny < SIZE and (ny, nx) != (y, x):\n",
    "                yield ny, nx\n",
    "\n",
    "\n",
    "def step(octopuses):\n",
    "    octopuses = octopuses + 1\n",
    "    flash_count = 0\n",
    "    while True:\n",
    "        flashers = np.transpose(np.nonzero(octopuses == 10))\n",
    "        if len(flashers) == 0: break\n",
    "        flash_count += len(flashers)\n",
    "        for y, x in flashers:\n",
    "            for ny, nx in neighbours(y, x):\n",
    "                if octopuses[ny, nx] < 10:\n",
    "                    octopuses[ny, nx] = min(10, octopuses[ny, nx] + 1)\n",
    "            octopuses[y, x] = 11\n",
    "    octopuses[octopuses > 9] = 0\n",
    "    return octopuses, flash_count\n",
    "\n",
    "@submit(day=DAY)\n",
    "def part_one():\n",
    "    octopuses = INPUT\n",
    "    result = 0\n",
    "    for _ in range(100):\n",
    "        octopuses, flash_count = step(octopuses)\n",
    "        result += flash_count\n",
    "    return result"
   ],
   "metadata": {
    "collapsed": false,
    "pycharm": {
     "name": "#%%\n"
    }
   }
  },
  {
   "cell_type": "code",
   "execution_count": 147,
   "outputs": [
    {
     "name": "stdout",
     "output_type": "stream",
     "text": [
      "part_two: 229 (57.81 ms)\n",
      "✅ That's the right answer!\n"
     ]
    }
   ],
   "source": [
    "@submit(day=DAY)\n",
    "def part_two():\n",
    "    octopuses = INPUT\n",
    "    for n in range(999):\n",
    "        octopuses, flashers = step(octopuses)\n",
    "        if flashers == SIZE * SIZE:\n",
    "            return n + 1\n",
    "    return None"
   ],
   "metadata": {
    "collapsed": false,
    "pycharm": {
     "name": "#%%\n"
    }
   }
  }
 ],
 "metadata": {
  "kernelspec": {
   "display_name": "Python 3",
   "language": "python",
   "name": "python3"
  },
  "language_info": {
   "codemirror_mode": {
    "name": "ipython",
    "version": 2
   },
   "file_extension": ".py",
   "mimetype": "text/x-python",
   "name": "python",
   "nbconvert_exporter": "python",
   "pygments_lexer": "ipython2",
   "version": "2.7.6"
  }
 },
 "nbformat": 4,
 "nbformat_minor": 0
}