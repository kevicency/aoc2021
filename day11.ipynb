{
 "cells": [
  {
   "cell_type": "code",
   "execution_count": 14,
   "metadata": {
    "collapsed": true
   },
   "outputs": [],
   "source": [
    "from aoc import submit\n",
    "import numpy as np\n",
    "\n",
    "DAY = 11"
   ]
  },
  {
   "cell_type": "code",
   "execution_count": 15,
   "outputs": [
    {
     "name": "stdout",
     "output_type": "stream",
     "text": [
      "part_one:\n",
      "⏩ example: no input       (skipped)\n",
      "✅ input:   1644           (52.18 ms)\n"
     ]
    }
   ],
   "source": [
    "def parse_input(raw):\n",
    "    return np.array([[int(n) for n in line] for line in raw.splitlines()])\n",
    "\n",
    "\n",
    "def neighbours(grid, y, x):\n",
    "    for dx in [-1, 0, 1]:\n",
    "        for dy in [-1, 0, 1]:\n",
    "            (ny, nx) = y + dy, x + dx\n",
    "            if 0 <= nx < grid.shape[1] and 0 <= ny < grid.shape[0] and (ny, nx) != (y, x):\n",
    "                yield ny, nx\n",
    "\n",
    "\n",
    "def step(octopuses):\n",
    "    octopuses = octopuses + 1\n",
    "    flash_count = 0\n",
    "    while True:\n",
    "        flashers = np.transpose(np.nonzero(octopuses == 10))\n",
    "        if len(flashers) == 0: break\n",
    "        flash_count += len(flashers)\n",
    "        for y, x in flashers:\n",
    "            for ny, nx in neighbours(octopuses, y, x):\n",
    "                if octopuses[ny, nx] < 10:\n",
    "                    octopuses[ny, nx] = min(10, octopuses[ny, nx] + 1)\n",
    "            octopuses[y, x] = 11\n",
    "    octopuses[octopuses > 9] = 0\n",
    "    return octopuses, flash_count\n",
    "\n",
    "\n",
    "@submit(day=DAY)\n",
    "def part_one(raw):\n",
    "    result, octopuses = 0, parse_input(raw)\n",
    "    for _ in range(100):\n",
    "        octopuses, flash_count = step(octopuses)\n",
    "        result += flash_count\n",
    "    return result"
   ],
   "metadata": {
    "collapsed": false,
    "pycharm": {
     "name": "#%%\n"
    }
   }
  },
  {
   "cell_type": "code",
   "execution_count": 16,
   "outputs": [
    {
     "name": "stdout",
     "output_type": "stream",
     "text": [
      "part_two:\n",
      "⏩ example: no input       (skipped)\n",
      "✅ input:   229            (117.12 ms)\n"
     ]
    }
   ],
   "source": [
    "@submit(day=DAY)\n",
    "def part_two(raw):\n",
    "    octopuses = parse_input(raw)\n",
    "    size = octopuses.shape[0] * octopuses.shape[1]\n",
    "    for n in range(999):\n",
    "        octopuses, flashers = step(octopuses)\n",
    "        if flashers == size:\n",
    "            return n + 1\n",
    "    return None"
   ],
   "metadata": {
    "collapsed": false,
    "pycharm": {
     "name": "#%%\n"
    }
   }
  }
 ],
 "metadata": {
  "kernelspec": {
   "display_name": "Python 3",
   "language": "python",
   "name": "python3"
  },
  "language_info": {
   "codemirror_mode": {
    "name": "ipython",
    "version": 2
   },
   "file_extension": ".py",
   "mimetype": "text/x-python",
   "name": "python",
   "nbconvert_exporter": "python",
   "pygments_lexer": "ipython2",
   "version": "2.7.6"
  }
 },
 "nbformat": 4,
 "nbformat_minor": 0
}