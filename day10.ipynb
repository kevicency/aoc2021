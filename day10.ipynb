{
 "cells": [
  {
   "cell_type": "code",
   "execution_count": 1,
   "metadata": {
    "collapsed": true
   },
   "outputs": [],
   "source": [
    "from functools import reduce\n",
    "from typing import List\n",
    "import numpy as np\n",
    "from aoc import submit\n",
    "\n",
    "DAY = 10\n",
    "BRACKET_MATCH = {\n",
    "    ')': '(', ']': '[', '}': '{', '>': '<',\n",
    "}\n",
    "BRACKET_SCORE = {\n",
    "    ')': 3, ']': 57, '}': 1197, '>': 25137,\n",
    "    '(': 1, '[': 2, '{': 3, '<': 4,\n",
    "}"
   ]
  },
  {
   "cell_type": "code",
   "execution_count": 2,
   "outputs": [
    {
     "name": "stdout",
     "output_type": "stream",
     "text": [
      "part_one:\n",
      "⏩ example: no input       (skipped)\n",
      "✅ input:   469755         (4.74 ms)\n"
     ]
    }
   ],
   "source": [
    "def parse_line(line: List, stack=None):\n",
    "    if not line: return stack, None\n",
    "\n",
    "    head, tail = line[0], line[1:]\n",
    "    if stack is None or head in BRACKET_MATCH.values():\n",
    "        return parse_line(tail, stack=[head] + (stack or []))\n",
    "    elif head in BRACKET_MATCH.keys() and stack[0] == BRACKET_MATCH[head]:\n",
    "        return parse_line(tail, stack=stack[1:])\n",
    "    return None, head\n",
    "\n",
    "\n",
    "def parse_input(raw):\n",
    "    return [parse_line(line) for line in raw.splitlines()]\n",
    "\n",
    "\n",
    "@submit(day=DAY)\n",
    "def part_one(raw):\n",
    "    lines = parse_input(raw)\n",
    "    illegal = [bracket for _, bracket in lines if bracket is not None]\n",
    "    return sum(map(lambda bracket: BRACKET_SCORE[bracket], illegal))"
   ],
   "metadata": {
    "collapsed": false,
    "pycharm": {
     "name": "#%%\n"
    }
   }
  },
  {
   "cell_type": "code",
   "execution_count": 3,
   "outputs": [
    {
     "name": "stdout",
     "output_type": "stream",
     "text": [
      "part_two:\n",
      "⏩ example: no input       (skipped)\n",
      "✅ input:   2762335572     (5.22 ms)\n"
     ]
    }
   ],
   "source": [
    "def score(stack):\n",
    "    return reduce(lambda acc, points: acc * 5 + points, [BRACKET_SCORE[bracket] for bracket in stack])\n",
    "\n",
    "\n",
    "@submit(day=DAY)\n",
    "def part_two(raw):\n",
    "    scores = [score(stack) for stack, _ in parse_input(raw) if stack is not None]\n",
    "    return int(np.median(scores))"
   ],
   "metadata": {
    "collapsed": false,
    "pycharm": {
     "name": "#%%\n"
    }
   }
  }
 ],
 "metadata": {
  "kernelspec": {
   "display_name": "Python 3",
   "language": "python",
   "name": "python3"
  },
  "language_info": {
   "codemirror_mode": {
    "name": "ipython",
    "version": 2
   },
   "file_extension": ".py",
   "mimetype": "text/x-python",
   "name": "python",
   "nbconvert_exporter": "python",
   "pygments_lexer": "ipython2",
   "version": "2.7.6"
  }
 },
 "nbformat": 4,
 "nbformat_minor": 0
}