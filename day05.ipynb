{
 "cells": [
  {
   "cell_type": "code",
   "execution_count": 1,
   "metadata": {
    "collapsed": true
   },
   "outputs": [],
   "source": [
    "import re\n",
    "import numpy as np\n",
    "from aoc import submit\n",
    "\n",
    "DAY = 5"
   ]
  },
  {
   "cell_type": "code",
   "execution_count": 2,
   "outputs": [
    {
     "name": "stdout",
     "output_type": "stream",
     "text": [
      "part_one:\n",
      "⏩ example: skipped      (no input)\n",
      "✅ input:   5197         (6.89 ms)\n"
     ]
    }
   ],
   "source": [
    "def parse_input(raw):\n",
    "    data = [list(map(int, re.findall(r\"\\d+\", line))) for line in raw.splitlines()]\n",
    "    size = max([max(x) for x in data]) + 1\n",
    "    return data, size\n",
    "\n",
    "\n",
    "@submit(day=DAY)\n",
    "def part_one(raw):\n",
    "    data, size = parse_input(raw)\n",
    "    diagram = np.zeros([size, size])\n",
    "    for (x1, y1, x2, y2) in data:\n",
    "        if x1 == x2:\n",
    "            diagram[min(y1, y2):max(y1, y2) + 1, x1] += 1\n",
    "        if y1 == y2:\n",
    "            diagram[y1, min(x1, x2):max(x1, x2) + 1] += 1\n",
    "    return (diagram > 1).sum()"
   ],
   "metadata": {
    "collapsed": false,
    "pycharm": {
     "name": "#%%\n"
    }
   }
  },
  {
   "cell_type": "code",
   "execution_count": 3,
   "outputs": [
    {
     "name": "stdout",
     "output_type": "stream",
     "text": [
      "part_two:\n",
      "⏩ example: skipped      (no input)\n",
      "✅ input:   18605        (111.56 ms)\n"
     ]
    }
   ],
   "source": [
    "def sign(n):\n",
    "    return -1 if n < 0 else int(n > 0)\n",
    "\n",
    "@submit(day=DAY)\n",
    "def part_two(raw):\n",
    "    data, size = parse_input(raw)\n",
    "    diagram = np.zeros([size, size])\n",
    "    for (x1, y1, x2, y2) in data:\n",
    "        (sx, sy) = sign(x2 - x1), sign(y2 - y1)\n",
    "        for n in range(max(abs(x1 - x2), abs(y1 - y2)) + 1):\n",
    "            diagram[y1 + n * sy, x1 + n * sx] += 1\n",
    "    return (diagram > 1).sum()"
   ],
   "metadata": {
    "collapsed": false,
    "pycharm": {
     "name": "#%%\n"
    }
   }
  }
 ],
 "metadata": {
  "kernelspec": {
   "display_name": "Python 3",
   "language": "python",
   "name": "python3"
  },
  "language_info": {
   "codemirror_mode": {
    "name": "ipython",
    "version": 2
   },
   "file_extension": ".py",
   "mimetype": "text/x-python",
   "name": "python",
   "nbconvert_exporter": "python",
   "pygments_lexer": "ipython2",
   "version": "2.7.6"
  }
 },
 "nbformat": 4,
 "nbformat_minor": 0
}