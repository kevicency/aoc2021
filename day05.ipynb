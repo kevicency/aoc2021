{
 "cells": [
  {
   "cell_type": "code",
   "execution_count": 1,
   "metadata": {
    "collapsed": true
   },
   "outputs": [],
   "source": [
    "\n",
    "import re\n",
    "import numpy as np\n",
    "from aoc import submit, raw\n",
    "\n",
    "DAY = 5\n",
    "data = [list(map(int, re.findall(r\"\\d+\", line))) for line in raw(day=DAY).splitlines()]\n",
    "MAX = max([max(x) for x in data]) + 1"
   ]
  },
  {
   "cell_type": "code",
   "execution_count": 2,
   "outputs": [
    {
     "name": "stdout",
     "output_type": "stream",
     "text": [
      "part_one: 5197 (7.98 ms)\n",
      "❌ You don't seem to be solving the right level!\n"
     ]
    }
   ],
   "source": [
    "@submit(day=DAY)\n",
    "def part_one():\n",
    "    diagram = np.zeros([MAX, MAX])\n",
    "    for (x1, y1, x2, y2) in data:\n",
    "        if x1 == x2:\n",
    "            diagram[min(y1, y2):max(y1, y2) + 1, x1] += 1\n",
    "        if y1 == y2:\n",
    "            diagram[y1, min(x1, x2):max(x1, x2) + 1] += 1\n",
    "    return (diagram > 1).sum()\n",
    "part_one()"
   ],
   "metadata": {
    "collapsed": false,
    "pycharm": {
     "name": "#%%\n"
    }
   }
  },
  {
   "cell_type": "code",
   "execution_count": 3,
   "outputs": [
    {
     "name": "stdout",
     "output_type": "stream",
     "text": [
      "part_two: 18605 (104.23 ms)\n",
      "❌ You don't seem to be solving the right level!\n"
     ]
    }
   ],
   "source": [
    "def sign(n):\n",
    "    return -1 if n < 0 else int(n > 0)\n",
    "\n",
    "@submit(day=DAY)\n",
    "def part_two():\n",
    "    diagram = np.zeros([MAX, MAX])\n",
    "    for (x1, y1, x2, y2) in data:\n",
    "        (sx, sy) = sign(x2 - x1), sign(y2 - y1)\n",
    "        for n in range(max(abs(x1 - x2), abs(y1 - y2)) + 1):\n",
    "            diagram[y1 + n * sy, x1 + n * sx] += 1\n",
    "    return (diagram > 1).sum()\n",
    "part_two()"
   ],
   "metadata": {
    "collapsed": false,
    "pycharm": {
     "name": "#%%\n"
    }
   }
  }
 ],
 "metadata": {
  "kernelspec": {
   "display_name": "Python 3",
   "language": "python",
   "name": "python3"
  },
  "language_info": {
   "codemirror_mode": {
    "name": "ipython",
    "version": 2
   },
   "file_extension": ".py",
   "mimetype": "text/x-python",
   "name": "python",
   "nbconvert_exporter": "python",
   "pygments_lexer": "ipython2",
   "version": "2.7.6"
  }
 },
 "nbformat": 4,
 "nbformat_minor": 0
}