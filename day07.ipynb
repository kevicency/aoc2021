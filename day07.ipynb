{
 "cells": [
  {
   "cell_type": "code",
   "execution_count": 1,
   "metadata": {
    "collapsed": true
   },
   "outputs": [],
   "source": [
    "import numpy as np\n",
    "from aoc import submit\n",
    "\n",
    "DAY = 7"
   ]
  },
  {
   "cell_type": "code",
   "execution_count": 2,
   "outputs": [
    {
     "name": "stdout",
     "output_type": "stream",
     "text": [
      "part_one:\n",
      "⏩ example: no input       (skipped)\n",
      "✅ input:   339321         (0.49 ms)\n"
     ]
    }
   ],
   "source": [
    "def parse_input(raw):\n",
    "    return np.array([int(n) for n in raw.split(',')])\n",
    "\n",
    "\n",
    "@submit(day=DAY)\n",
    "def part_one(raw):\n",
    "    data = parse_input(raw)\n",
    "    median = int(np.median(data))\n",
    "    return abs(data - median).sum()"
   ],
   "metadata": {
    "collapsed": false,
    "pycharm": {
     "name": "#%%\n"
    }
   }
  },
  {
   "cell_type": "code",
   "execution_count": 3,
   "outputs": [
    {
     "name": "stdout",
     "output_type": "stream",
     "text": [
      "part_two:\n",
      "⏩ example: no input       (skipped)\n",
      "✅ input:   95476244       (1.08 ms)\n"
     ]
    }
   ],
   "source": [
    "fuel = np.vectorize(lambda n: n * (n + 1) // 2)\n",
    "\n",
    "\n",
    "@submit(day=DAY)\n",
    "def part_two(raw):\n",
    "    data = parse_input(raw)\n",
    "    mean = int(np.mean(data))\n",
    "    return min([fuel(abs(data - mean + n)).sum() for n in [0, 1]])"
   ],
   "metadata": {
    "collapsed": false,
    "pycharm": {
     "name": "#%%\n"
    }
   }
  }
 ],
 "metadata": {
  "kernelspec": {
   "display_name": "Python 3",
   "language": "python",
   "name": "python3"
  },
  "language_info": {
   "codemirror_mode": {
    "name": "ipython",
    "version": 2
   },
   "file_extension": ".py",
   "mimetype": "text/x-python",
   "name": "python",
   "nbconvert_exporter": "python",
   "pygments_lexer": "ipython2",
   "version": "2.7.6"
  }
 },
 "nbformat": 4,
 "nbformat_minor": 0
}