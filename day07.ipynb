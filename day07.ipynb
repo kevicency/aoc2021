{
 "cells": [
  {
   "cell_type": "code",
   "execution_count": 2,
   "metadata": {
    "collapsed": true
   },
   "outputs": [],
   "source": [
    "import numpy as np\n",
    "\n",
    "from aoc import submit, raw\n",
    "\n",
    "DAY = 7\n",
    "INPUT = np.array([int(n) for n in raw(day=DAY).split(',')])"
   ]
  },
  {
   "cell_type": "code",
   "execution_count": 5,
   "outputs": [
    {
     "name": "stdout",
     "output_type": "stream",
     "text": [
      "part_one: 339321 (0.41 ms)\n",
      "✅ That's the right answer!\n"
     ]
    }
   ],
   "source": [
    "@submit(day=DAY)\n",
    "def part_one():\n",
    "    median = np.median(INPUT)\n",
    "    return sum([abs(median - n) for n in INPUT])"
   ],
   "metadata": {
    "collapsed": false,
    "pycharm": {
     "name": "#%%\n"
    }
   }
  },
  {
   "cell_type": "code",
   "execution_count": 32,
   "outputs": [
    {
     "name": "stdout",
     "output_type": "stream",
     "text": [
      "part_two: 95476244 (2.06 ms)\n",
      "✅ That's the right answer!\n"
     ]
    }
   ],
   "source": [
    "def fuel(n):\n",
    "    return n * (n + 1) / 2\n",
    "\n",
    "\n",
    "@submit(day=DAY)\n",
    "def part_two():\n",
    "    mean = np.mean(INPUT)\n",
    "    return min([sum([fuel(abs(n - x)) for x in INPUT]) for n in [np.ceil(mean), np.floor(mean)]])"
   ],
   "metadata": {
    "collapsed": false,
    "pycharm": {
     "name": "#%%\n"
    }
   }
  }
 ],
 "metadata": {
  "kernelspec": {
   "display_name": "Python 3",
   "language": "python",
   "name": "python3"
  },
  "language_info": {
   "codemirror_mode": {
    "name": "ipython",
    "version": 2
   },
   "file_extension": ".py",
   "mimetype": "text/x-python",
   "name": "python",
   "nbconvert_exporter": "python",
   "pygments_lexer": "ipython2",
   "version": "2.7.6"
  }
 },
 "nbformat": 4,
 "nbformat_minor": 0
}