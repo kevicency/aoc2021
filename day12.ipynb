{
 "cells": [
  {
   "cell_type": "code",
   "execution_count": 3,
   "metadata": {
    "collapsed": true
   },
   "outputs": [],
   "source": [
    "from aoc import submit\n",
    "import networkx as nx\n",
    "\n",
    "DAY = 12"
   ]
  },
  {
   "cell_type": "code",
   "execution_count": 4,
   "outputs": [
    {
     "name": "stdout",
     "output_type": "stream",
     "text": [
      "part_one:\n",
      "⏩ example: no input       (skipped)\n",
      "✅ input:   5212           (739.43 ms)\n"
     ]
    }
   ],
   "source": [
    "def parse_input(raw):\n",
    "    return nx.Graph(line.split(\"-\") for line in raw.splitlines())\n",
    "\n",
    "\n",
    "def explore(caves, node: str, revisiting, visited=()):\n",
    "    if node == 'end':\n",
    "        return 1\n",
    "    elif node.islower():\n",
    "        if node not in visited:\n",
    "            visited = {*visited, node}\n",
    "        elif not revisiting:\n",
    "            revisiting = True\n",
    "    return sum(explore(caves, neighbour, revisiting, visited) for neighbour in caves[node]\n",
    "               if neighbour != 'start'\n",
    "               if neighbour not in visited or not revisiting)\n",
    "\n",
    "\n",
    "@submit(day=DAY)\n",
    "def part_one(raw):\n",
    "    caves = parse_input(raw)\n",
    "    return explore(caves, 'start', True)"
   ],
   "metadata": {
    "collapsed": false,
    "pycharm": {
     "name": "#%%\n"
    }
   }
  },
  {
   "cell_type": "code",
   "execution_count": 7,
   "outputs": [
    {
     "name": "stdout",
     "output_type": "stream",
     "text": [
      "part_two:\n",
      "⏩ example: no input       (skipped)\n",
      "✅ input:   134862         (555.50 ms)\n"
     ]
    }
   ],
   "source": [
    "@submit(day=DAY)\n",
    "def part_two(raw):\n",
    "    caves = parse_input(raw)\n",
    "    return explore(caves, 'start', False)"
   ],
   "metadata": {
    "collapsed": false,
    "pycharm": {
     "name": "#%%\n"
    }
   }
  }
 ],
 "metadata": {
  "kernelspec": {
   "display_name": "Python 3",
   "language": "python",
   "name": "python3"
  },
  "language_info": {
   "codemirror_mode": {
    "name": "ipython",
    "version": 2
   },
   "file_extension": ".py",
   "mimetype": "text/x-python",
   "name": "python",
   "nbconvert_exporter": "python",
   "pygments_lexer": "ipython2",
   "version": "2.7.6"
  }
 },
 "nbformat": 4,
 "nbformat_minor": 0
}