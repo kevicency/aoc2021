{
 "cells": [
  {
   "cell_type": "code",
   "execution_count": 41,
   "metadata": {
    "collapsed": true
   },
   "outputs": [],
   "source": [
    "from itertools import combinations_with_replacement\n",
    "from aoc import submit\n",
    "import networkx as nx\n",
    "\n",
    "DAY = 12"
   ]
  },
  {
   "cell_type": "code",
   "execution_count": 40,
   "outputs": [
    {
     "name": "stdout",
     "output_type": "stream",
     "text": [
      "part_one:\n",
      "✅ example: 19             (0.26 ms)\n",
      "✅ input:   5212           (3.15 ms)\n"
     ]
    }
   ],
   "source": [
    "def parse_input(raw):\n",
    "    caves = nx.MultiGraph(line.split(\"-\") for line in raw.splitlines())\n",
    "    big_caves = [cave for cave in caves if cave.isupper()]\n",
    "    caves.add_edges_from(\n",
    "        edge\n",
    "        for big_cave in big_caves\n",
    "        for edge in combinations_with_replacement(caves[big_cave], 2)\n",
    "    )\n",
    "    caves.remove_nodes_from(big_caves)\n",
    "\n",
    "    return caves\n",
    "\n",
    "\n",
    "def explore(caves, cur, revisiting, seen=()):\n",
    "    return cur == \"end\" or sum(len(caves[cur][n]) *\n",
    "               explore(caves, n, revisiting or (n in seen), {*seen, n})\n",
    "               for n in caves[cur]\n",
    "               if n != 'start' and (not revisiting or n not in seen))\n",
    "\n",
    "\n",
    "@submit(day=DAY)\n",
    "def part_one(raw):\n",
    "    caves = parse_input(raw)\n",
    "    return explore(caves, 'start', True)"
   ],
   "metadata": {
    "collapsed": false,
    "pycharm": {
     "name": "#%%\n"
    }
   }
  },
  {
   "cell_type": "code",
   "execution_count": 39,
   "outputs": [
    {
     "name": "stdout",
     "output_type": "stream",
     "text": [
      "part_two:\n",
      "✅ example: 103            (0.29 ms)\n",
      "✅ input:   134862         (26.71 ms)\n"
     ]
    }
   ],
   "source": [
    "@submit(day=DAY)\n",
    "def part_two(raw):\n",
    "    caves = parse_input(raw)\n",
    "    return explore(caves, 'start', False)"
   ],
   "metadata": {
    "collapsed": false,
    "pycharm": {
     "name": "#%%\n"
    }
   }
  }
 ],
 "metadata": {
  "kernelspec": {
   "display_name": "Python 3",
   "language": "python",
   "name": "python3"
  },
  "language_info": {
   "codemirror_mode": {
    "name": "ipython",
    "version": 2
   },
   "file_extension": ".py",
   "mimetype": "text/x-python",
   "name": "python",
   "nbconvert_exporter": "python",
   "pygments_lexer": "ipython2",
   "version": "2.7.6"
  }
 },
 "nbformat": 4,
 "nbformat_minor": 0
}