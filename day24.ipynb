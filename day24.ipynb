{
 "cells": [
  {
   "cell_type": "code",
   "execution_count": 45,
   "metadata": {
    "collapsed": true
   },
   "outputs": [],
   "source": [
    "from functools import cache, reduce\n",
    "\n",
    "from aoc import submit\n",
    "\n",
    "DAY = 24"
   ]
  },
  {
   "cell_type": "code",
   "execution_count": 46,
   "outputs": [
    {
     "name": "stdout",
     "output_type": "stream",
     "text": [
      "part_one:\n",
      "✅ input:   49917929934999 (0.29 ms)\n"
     ]
    }
   ],
   "source": [
    "@cache\n",
    "def parse_input(raw):\n",
    "    return [[line.split(' ') for line in block.splitlines()] for block in raw.split('inp w\\n')[1:]]\n",
    "\n",
    "\n",
    "@cache\n",
    "def solve(raw):\n",
    "    blocks = parse_input(raw)\n",
    "    queue = []\n",
    "    low = [None] * 14\n",
    "    high = [None] * 14\n",
    "    for i, block in enumerate(blocks):\n",
    "        if block[3][-1] == '1':\n",
    "            queue.append((i, int(block[14][-1])))\n",
    "        else:\n",
    "            j, n = queue.pop()\n",
    "            n += int(block[4][-1])\n",
    "            if n > 0:\n",
    "                low[i] = 1 + n\n",
    "                low[j] = 1\n",
    "                high[i] = 9\n",
    "                high[j] = 9 - n\n",
    "            else:\n",
    "                high[i] = 9 + n\n",
    "                high[j] = 9\n",
    "                low[i] = 1\n",
    "                low[j] = 1 - n\n",
    "    return low, high\n",
    "\n",
    "\n",
    "@submit(day=DAY, skip_example=True)\n",
    "def part_one(raw):\n",
    "    _, high = solve(raw)\n",
    "    return int(''.join(map(str, high)))"
   ],
   "metadata": {
    "collapsed": false,
    "pycharm": {
     "name": "#%%\n"
    }
   }
  },
  {
   "cell_type": "code",
   "execution_count": 47,
   "outputs": [
    {
     "name": "stdout",
     "output_type": "stream",
     "text": [
      "part_two:\n",
      "✅ input:   11911316711816 (0.16 ms)\n"
     ]
    }
   ],
   "source": [
    "@submit(day=DAY, skip_example=True)\n",
    "def part_two(raw):\n",
    "    low, _ = solve(raw)\n",
    "    return int(''.join(map(str, low)))"
   ],
   "metadata": {
    "collapsed": false,
    "pycharm": {
     "name": "#%%\n"
    }
   }
  }
 ],
 "metadata": {
  "kernelspec": {
   "display_name": "Python 3",
   "language": "python",
   "name": "python3"
  },
  "language_info": {
   "codemirror_mode": {
    "name": "ipython",
    "version": 2
   },
   "file_extension": ".py",
   "mimetype": "text/x-python",
   "name": "python",
   "nbconvert_exporter": "python",
   "pygments_lexer": "ipython2",
   "version": "2.7.6"
  }
 },
 "nbformat": 4,
 "nbformat_minor": 0
}