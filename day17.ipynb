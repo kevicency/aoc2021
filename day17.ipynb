{
 "cells": [
  {
   "cell_type": "code",
   "execution_count": 2,
   "metadata": {
    "collapsed": true
   },
   "outputs": [],
   "source": [
    "import re\n",
    "from itertools import product\n",
    "\n",
    "from aoc import submit\n",
    "\n",
    "DAY = 17"
   ]
  },
  {
   "cell_type": "code",
   "execution_count": 11,
   "outputs": [
    {
     "name": "stdout",
     "output_type": "stream",
     "text": [
      "part_one:\n",
      "✅ example: 45             (0.02 ms)\n",
      "✅ input:   6441           (0.21 ms)\n"
     ]
    }
   ],
   "source": [
    "def parse_input(raw):\n",
    "    return tuple(map(int, re.findall(r\"(-?\\d+)\", raw)))\n",
    "\n",
    "\n",
    "@submit(day=DAY)\n",
    "def part_one(raw):\n",
    "    _, _, ymin, _ = parse_input(raw)\n",
    "    vy_max = abs(ymin) - 1\n",
    "    return (vy_max * (vy_max + 1)) // 2"
   ],
   "metadata": {
    "collapsed": false,
    "pycharm": {
     "name": "#%%\n"
    }
   }
  },
  {
   "cell_type": "code",
   "execution_count": 41,
   "outputs": [
    {
     "name": "stdout",
     "output_type": "stream",
     "text": [
      "part_two:\n",
      "✅ example: 112            (0.39 ms)\n",
      "✅ input:   3186           (32.12 ms)\n"
     ]
    }
   ],
   "source": [
    "@submit(day=DAY)\n",
    "def part_two(raw):\n",
    "    xmin, xmax, ymin, ymax = parse_input(raw)\n",
    "    target = set(product(range(xmin, xmax + 1), range(ymin, ymax + 1)))\n",
    "    vx_min = next(vx for vx in range(1, xmin) if xmin <= vx * (vx + 1) // 2 <= xmax)\n",
    "    result = 0\n",
    "    for vx_init in range(vx_min, xmax + 1):\n",
    "        for vy_init in range(ymin, abs(ymin) + 1):\n",
    "            vx, vy = vx_init, vy_init\n",
    "            x, y = (0, 0)\n",
    "            while x <= xmax and y >= ymin:\n",
    "                x, y = x + vx, y + vy\n",
    "                vx, vy = vx - (vx > 0), vy - 1\n",
    "                if (x, y) in target:\n",
    "                    result += 1\n",
    "                    break\n",
    "\n",
    "    return result"
   ],
   "metadata": {
    "collapsed": false,
    "pycharm": {
     "name": "#%%\n"
    }
   }
  }
 ],
 "metadata": {
  "kernelspec": {
   "display_name": "Python 3",
   "language": "python",
   "name": "python3"
  },
  "language_info": {
   "codemirror_mode": {
    "name": "ipython",
    "version": 2
   },
   "file_extension": ".py",
   "mimetype": "text/x-python",
   "name": "python",
   "nbconvert_exporter": "python",
   "pygments_lexer": "ipython2",
   "version": "2.7.6"
  }
 },
 "nbformat": 4,
 "nbformat_minor": 0
}