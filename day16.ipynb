{
 "cells": [
  {
   "cell_type": "code",
   "execution_count": 163,
   "metadata": {
    "collapsed": true
   },
   "outputs": [],
   "source": [
    "import re\n",
    "from collections import namedtuple\n",
    "from operator import mul\n",
    "\n",
    "from math import prod\n",
    "\n",
    "from aoc import submit\n",
    "\n",
    "DAY = 16"
   ]
  },
  {
   "cell_type": "code",
   "execution_count": 170,
   "outputs": [
    {
     "name": "stdout",
     "output_type": "stream",
     "text": [
      "part_one:\n",
      "✅ example: 82             (0.15 ms)\n",
      "✅ input:   1007           (1.85 ms)\n"
     ]
    }
   ],
   "source": [
    "Packet = namedtuple('Packet', ['version', 'type_id', 'content'])\n",
    "\n",
    "\n",
    "def parse_input(raw):\n",
    "    return [hex_to_bits(hex_str) for hex_str in raw.splitlines()]\n",
    "\n",
    "\n",
    "def hex_to_bits(hex_str):\n",
    "    return bin(int(hex_str, 16))[2:].zfill(len(hex_str) * 4)\n",
    "\n",
    "\n",
    "def split(arr, *at):\n",
    "    start = 0\n",
    "    for end in at:\n",
    "        yield arr[start:end]\n",
    "        start = end\n",
    "    yield arr[start:]\n",
    "\n",
    "\n",
    "def literal(bits, acc=''):\n",
    "    head, val, rest = split(bits, 1, 5)\n",
    "    return literal(rest, acc + val) if int(head, 2) else (int(acc + val, 2), rest)\n",
    "\n",
    "\n",
    "def operator(bits):\n",
    "    head, bits = split(bits, 1)\n",
    "    if int(head):\n",
    "        count, bits = split(bits, 11)\n",
    "        return unpack_all(bits, int(count, 2))\n",
    "    else:\n",
    "        length, bits = split(bits, 15)\n",
    "        bits, rest = split(bits, int(length, 2))\n",
    "        return unpack_all(bits)[0], rest\n",
    "\n",
    "\n",
    "def unpack_all(bits, n=None):\n",
    "    result = []\n",
    "    while bits and (n is None or len(result) < n):\n",
    "        packet, bits = unpack(bits)\n",
    "        result.append(packet)\n",
    "    return result, bits\n",
    "\n",
    "\n",
    "def unpack(bits):\n",
    "    version, type_id, bits = split(bits, 3, 6)\n",
    "    version, type_id = int(version, 2), int(type_id, 2)\n",
    "\n",
    "    match int(type_id):\n",
    "        case 4:\n",
    "            content, bits = literal(bits)\n",
    "        case _:\n",
    "            content, bits = operator(bits)\n",
    "\n",
    "    return Packet(version, type_id, content), bits\n",
    "\n",
    "\n",
    "def add_versions(packet: Packet):\n",
    "    result = packet.version\n",
    "    try:\n",
    "        iterator = iter(packet.content)\n",
    "    except TypeError:\n",
    "        pass\n",
    "    else:\n",
    "        for child in iterator:\n",
    "            result += add_versions(child)\n",
    "    return result\n",
    "\n",
    "\n",
    "@submit(day=DAY)\n",
    "def part_one(raw):\n",
    "    result = 0\n",
    "    for bits in parse_input(raw):\n",
    "        packet, _ = unpack(bits)\n",
    "        result += add_versions(packet)\n",
    "    return result\n"
   ],
   "metadata": {
    "collapsed": false,
    "pycharm": {
     "name": "#%%\n"
    }
   }
  },
  {
   "cell_type": "code",
   "execution_count": 165,
   "outputs": [
    {
     "name": "stdout",
     "output_type": "stream",
     "text": [
      "part_two:\n",
      "✅ input:   834151779165   (1.79 ms)\n"
     ]
    }
   ],
   "source": [
    "def evaluate(packet: Packet):\n",
    "    try:\n",
    "        iterator = iter(packet.content)\n",
    "    except TypeError:\n",
    "        return packet.content\n",
    "    else:\n",
    "        values = [evaluate(child) for child in iterator]\n",
    "        match packet.type_id:\n",
    "            case 0:\n",
    "                return sum(values)\n",
    "            case 1:\n",
    "                return prod(values)\n",
    "            case 2:\n",
    "                return min(values)\n",
    "            case 3:\n",
    "                return max(values)\n",
    "            case 5:\n",
    "                return values[0] > values[1]\n",
    "            case 6:\n",
    "                return values[0] < values[1]\n",
    "            case 7:\n",
    "                return values[0] == values[1]\n",
    "\n",
    "\n",
    "@submit(day=DAY, skip_example=True)\n",
    "def part_two(raw):\n",
    "    packet, _ = unpack(parse_input(raw)[0])\n",
    "    return evaluate(packet)"
   ],
   "metadata": {
    "collapsed": false,
    "pycharm": {
     "name": "#%%\n"
    }
   }
  }
 ],
 "metadata": {
  "kernelspec": {
   "display_name": "Python 3",
   "language": "python",
   "name": "python3"
  },
  "language_info": {
   "codemirror_mode": {
    "name": "ipython",
    "version": 2
   },
   "file_extension": ".py",
   "mimetype": "text/x-python",
   "name": "python",
   "nbconvert_exporter": "python",
   "pygments_lexer": "ipython2",
   "version": "2.7.6"
  }
 },
 "nbformat": 4,
 "nbformat_minor": 0
}