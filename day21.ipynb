{
 "cells": [
  {
   "cell_type": "code",
   "execution_count": 5,
   "metadata": {
    "collapsed": true
   },
   "outputs": [],
   "source": [
    "import re\n",
    "from collections import Counter\n",
    "from functools import cache\n",
    "from itertools import product\n",
    "\n",
    "from aoc import submit\n",
    "\n",
    "DAY = 21"
   ]
  },
  {
   "cell_type": "code",
   "execution_count": 6,
   "outputs": [
    {
     "name": "stdout",
     "output_type": "stream",
     "text": [
      "part_one:\n",
      "✅ example: 739785         (0.19 ms)\n",
      "✅ input:   506466         (0.31 ms)\n"
     ]
    }
   ],
   "source": [
    "def parse_input(raw):\n",
    "    return [int(p) - 1 for p in re.findall(\": (\\d+)\", raw)]\n",
    "\n",
    "\n",
    "@submit(day=DAY)\n",
    "def part_one(raw):\n",
    "    pos = parse_input(raw)\n",
    "    score, d = [0, 0], 2\n",
    "    for r in range(420):\n",
    "        i = r % 2\n",
    "        pos[i] = (pos[i] + d * 3) % 10\n",
    "        score[i] += pos[i] + 1\n",
    "        d = (d + 3) % 100\n",
    "        if max(score) >= 1000:\n",
    "            return min(score) * ((r + 1) * 3)\n",
    "    return"
   ],
   "metadata": {
    "collapsed": false,
    "pycharm": {
     "name": "#%%\n"
    }
   }
  },
  {
   "cell_type": "code",
   "execution_count": 11,
   "outputs": [
    {
     "name": "stdout",
     "output_type": "stream",
     "text": [
      "part_two:\n",
      "✅ example: 444356092776315 (83.76 ms)\n",
      "✅ input:   632979211251440 (75.19 ms)\n"
     ]
    }
   ],
   "source": [
    "ROLL_FREQUENCY = Counter(map(sum, product([1, 2, 3], repeat=3)))\n",
    "\n",
    "@cache\n",
    "def simulate(p1, p2, s1=0, s2=0, p1_turn=True):\n",
    "    w1, w2 = 0, 0\n",
    "    for roll, freq in ROLL_FREQUENCY.items():\n",
    "        if p1_turn:\n",
    "            next_p1 = (p1 + roll) % 10\n",
    "            next_s1 = s1 + next_p1 + 1\n",
    "            if next_s1 >= 21:\n",
    "                w1 += freq\n",
    "            else:\n",
    "                nw1, nw2 = simulate(next_p1, p2, next_s1, s2, not p1_turn)\n",
    "                w1 += freq*  nw1\n",
    "                w2 += freq * nw2\n",
    "        else:\n",
    "            next_p2 = (p2 + roll) % 10\n",
    "            next_s2 = s2 + next_p2 + 1\n",
    "            if next_s2 >= 21:\n",
    "                w2 += freq\n",
    "            else:\n",
    "                nw1, nw2 = simulate(p1, next_p2, s1, next_s2, not p1_turn)\n",
    "                w1 += freq * nw1\n",
    "                w2 += freq * nw2\n",
    "    return w1, w2\n",
    "\n",
    "@submit(day=DAY)\n",
    "def part_two(raw):\n",
    "    pos = parse_input(raw)\n",
    "    simulate.cache_clear()\n",
    "    wins = simulate(*pos)\n",
    "    return max(wins)"
   ],
   "metadata": {
    "collapsed": false,
    "pycharm": {
     "name": "#%%\n"
    }
   }
  }
 ],
 "metadata": {
  "kernelspec": {
   "display_name": "Python 3",
   "language": "python",
   "name": "python3"
  },
  "language_info": {
   "codemirror_mode": {
    "name": "ipython",
    "version": 2
   },
   "file_extension": ".py",
   "mimetype": "text/x-python",
   "name": "python",
   "nbconvert_exporter": "python",
   "pygments_lexer": "ipython2",
   "version": "2.7.6"
  }
 },
 "nbformat": 4,
 "nbformat_minor": 0
}