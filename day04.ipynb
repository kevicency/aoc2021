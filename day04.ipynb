{
 "cells": [
  {
   "cell_type": "code",
   "execution_count": 1,
   "metadata": {
    "collapsed": true
   },
   "outputs": [],
   "source": [
    "import numpy as np\n",
    "from aoc import submit\n",
    "\n",
    "DAY = 4"
   ]
  },
  {
   "cell_type": "code",
   "execution_count": 2,
   "outputs": [
    {
     "name": "stdout",
     "output_type": "stream",
     "text": [
      "part_one:\n",
      "⏩ example: skipped      (no input)\n",
      "✅ input:   2745         (23.70 ms)\n"
     ]
    }
   ],
   "source": [
    "def parse_input(raw):\n",
    "    first, *lines = raw.splitlines()\n",
    "    draw = [int(n) for n in first.split(',')]\n",
    "    boards = np.loadtxt(lines, int).reshape((-1, 5, 5))\n",
    "    return draw, boards\n",
    "\n",
    "\n",
    "def score(n, board):\n",
    "    return n * np.sum(board[board > 0])\n",
    "\n",
    "\n",
    "def get_winning_number_and_board(draw, boards):\n",
    "    for n in draw:\n",
    "        for i, board in enumerate(boards):\n",
    "            board[board == n] = -n\n",
    "            mask = (board < 0)\n",
    "            if mask.all(axis=0).any() or mask.all(axis=1).any():\n",
    "                return n, (i, board)\n",
    "\n",
    "\n",
    "@submit(day=DAY)\n",
    "def part_one(raw):\n",
    "    draw, boards = parse_input(raw)\n",
    "    n, (i, board) = get_winning_number_and_board(draw, boards)\n",
    "    return score(n, board)"
   ],
   "metadata": {
    "collapsed": false,
    "pycharm": {
     "name": "#%%\n"
    }
   }
  },
  {
   "cell_type": "code",
   "execution_count": 3,
   "outputs": [
    {
     "name": "stdout",
     "output_type": "stream",
     "text": [
      "part_two:\n",
      "⏩ example: skipped      (no input)\n",
      "✅ input:   6594         (84.68 ms)\n"
     ]
    }
   ],
   "source": [
    "@submit(day=DAY)\n",
    "def part_two(raw):\n",
    "    draw, boards = parse_input(raw)\n",
    "    while len(boards) > 0:\n",
    "        n, (i, board) = get_winning_number_and_board(draw, boards)\n",
    "        draw = draw[draw.index(n):]\n",
    "        boards = np.delete(boards, i, axis=0)\n",
    "    return score(n, board)"
   ],
   "metadata": {
    "collapsed": false,
    "pycharm": {
     "name": "#%%\n"
    }
   }
  }
 ],
 "metadata": {
  "kernelspec": {
   "display_name": "Python 3",
   "language": "python",
   "name": "python3"
  },
  "language_info": {
   "codemirror_mode": {
    "name": "ipython",
    "version": 2
   },
   "file_extension": ".py",
   "mimetype": "text/x-python",
   "name": "python",
   "nbconvert_exporter": "python",
   "pygments_lexer": "ipython2",
   "version": "2.7.6"
  }
 },
 "nbformat": 4,
 "nbformat_minor": 0
}