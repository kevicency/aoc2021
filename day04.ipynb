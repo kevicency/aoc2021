{
 "cells": [
  {
   "cell_type": "code",
   "execution_count": 4,
   "metadata": {
    "collapsed": true
   },
   "outputs": [],
   "source": [
    "import numpy as np\n",
    "from aoc import submit, raw\n",
    "\n",
    "DAY = 4\n",
    "first, *lines = raw(day=DAY).splitlines()\n",
    "\n",
    "def parse_input():\n",
    "    draw = [int(n) for n in first.split(',')]\n",
    "    boards = np.loadtxt(lines, int).reshape((-1, 5, 5))\n",
    "    return draw, boards\n"
   ]
  },
  {
   "cell_type": "code",
   "execution_count": 5,
   "outputs": [
    {
     "name": "stdout",
     "output_type": "stream",
     "text": [
      "part_one: 2745 (35.99 ms)\n",
      "✅ That's the right answer!\n"
     ]
    }
   ],
   "source": [
    "def score(n, board):\n",
    "    return n * np.sum(board[board > 0])\n",
    "def get_winning_number_and_board(draw, boards):\n",
    "    for n in draw:\n",
    "        for i, board in enumerate(boards):\n",
    "            board[board == n] = -n\n",
    "            mask = (board < 0)\n",
    "            if mask.all(axis = 0).any() or mask.all(axis = 1).any():\n",
    "                return n, (i, board)\n",
    "\n",
    "@submit(day=DAY)\n",
    "def part_one():\n",
    "    draw, boards = parse_input()\n",
    "    n, (i, board) = get_winning_number_and_board(draw, boards)\n",
    "    return score(n, board)\n",
    "part_one()"
   ],
   "metadata": {
    "collapsed": false,
    "pycharm": {
     "name": "#%%\n"
    }
   }
  },
  {
   "cell_type": "code",
   "execution_count": 6,
   "outputs": [
    {
     "name": "stdout",
     "output_type": "stream",
     "text": [
      "part_two: 6594 (78.23 ms)\n",
      "✅ That's the right answer!\n"
     ]
    }
   ],
   "source": [
    "@submit(day=DAY)\n",
    "def part_two():\n",
    "    draw, boards = parse_input()\n",
    "    while len(boards) > 0:\n",
    "        n, (i, board) = get_winning_number_and_board(draw, boards)\n",
    "        draw = draw[draw.index(n):]\n",
    "        boards = np.delete(boards, i, axis=0)\n",
    "    return score(n, board)\n",
    "part_two()"
   ],
   "metadata": {
    "collapsed": false,
    "pycharm": {
     "name": "#%%\n"
    }
   }
  }
 ],
 "metadata": {
  "kernelspec": {
   "display_name": "Python 3",
   "language": "python",
   "name": "python3"
  },
  "language_info": {
   "codemirror_mode": {
    "name": "ipython",
    "version": 2
   },
   "file_extension": ".py",
   "mimetype": "text/x-python",
   "name": "python",
   "nbconvert_exporter": "python",
   "pygments_lexer": "ipython2",
   "version": "2.7.6"
  }
 },
 "nbformat": 4,
 "nbformat_minor": 0
}