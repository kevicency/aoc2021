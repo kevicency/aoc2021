{
 "cells": [
  {
   "cell_type": "code",
   "execution_count": 16,
   "metadata": {
    "collapsed": true
   },
   "outputs": [],
   "source": [
    "import re\n",
    "from functools import cache\n",
    "from typing import NamedTuple\n",
    "from aoc import submit\n",
    "\n",
    "DAY = 22"
   ]
  },
  {
   "cell_type": "code",
   "execution_count": 17,
   "outputs": [
    {
     "name": "stdout",
     "output_type": "stream",
     "text": [
      "part_one:\n",
      "✅ example: 590784         (3.69 ms)\n",
      "✅ input:   533863         (350.97 ms)\n"
     ]
    }
   ],
   "source": [
    "class Interval(NamedTuple):\n",
    "    start: int\n",
    "    stop: int\n",
    "\n",
    "    def __bool__(self):\n",
    "        return self.length > 0\n",
    "\n",
    "    @property\n",
    "    def length(self):\n",
    "        return max(0, self.stop - self.start + 1)\n",
    "\n",
    "    def intersects(self, other):\n",
    "        return not (self.start > other.stop or self.stop < other.start)\n",
    "\n",
    "    def intersection(self, other):\n",
    "        return Interval(max(self.start, other.start), min(self.stop, other.stop))\n",
    "\n",
    "    def clip(self, mi, mx):\n",
    "        start, stop = self\n",
    "        return Interval(max(mi, start), min(mx, stop))\n",
    "\n",
    "    @staticmethod\n",
    "    def parse(line: str):\n",
    "        nums = map(int, re.findall(r\"(-?\\d+)\", line))\n",
    "        return map(Interval, nums, nums)\n",
    "\n",
    "\n",
    "class Cuboid(NamedTuple):\n",
    "    height: Interval\n",
    "    width: Interval\n",
    "    depth: Interval\n",
    "\n",
    "    @property\n",
    "    def volume(self):\n",
    "        return self.height.length * self.width.length * self.depth.length\n",
    "\n",
    "    def intersects(self, other):\n",
    "        return (\n",
    "                self.height.intersects(other.height)\n",
    "                and self.width.intersects(other.width)\n",
    "                and self.depth.intersects(other.depth)\n",
    "        )\n",
    "\n",
    "    def intersect(self, other):\n",
    "        return Cuboid(\n",
    "            *(i.intersection(j) for i, j in zip(self, other))\n",
    "        )\n",
    "\n",
    "    def clip(self, mi, mx):\n",
    "        h, w, d = self\n",
    "        return Cuboid(h.clip(mi, mx), w.clip(mi, mx), d.clip(mi, mx))\n",
    "\n",
    "    def __sub__(self: 'Cuboid', other: 'Cuboid'):\n",
    "        if not self.intersects(other):\n",
    "            yield self\n",
    "            return\n",
    "\n",
    "        intersection = self.intersect(other)\n",
    "\n",
    "        if i := Interval(self.depth.start, intersection.depth.start - 1):\n",
    "            yield Cuboid(self.height, self.width, i)\n",
    "\n",
    "        if i := Interval(intersection.depth.stop + 1, self.depth.stop):\n",
    "            yield Cuboid(self.height, self.width, i)\n",
    "\n",
    "        if i := Interval(self.height.start, intersection.height.start - 1):\n",
    "            yield Cuboid(i, self.width, intersection.depth)\n",
    "\n",
    "        if i := Interval(intersection.height.stop + 1, self.height.stop):\n",
    "            yield Cuboid(i, self.width, intersection.depth)\n",
    "\n",
    "        if i := Interval(self.width.start, intersection.width.start - 1):\n",
    "            yield Cuboid(intersection.height, i, intersection.depth)\n",
    "\n",
    "        if i := Interval(intersection.width.stop + 1, self.width.stop):\n",
    "            yield Cuboid(intersection.height, i, intersection.depth)\n",
    "\n",
    "\n",
    "def regions():\n",
    "    \"\"\"\n",
    "    Split intersecting cubes into individual regions.\n",
    "    \"\"\"\n",
    "\n",
    "\n",
    "@cache\n",
    "def parse_input(raw):\n",
    "    instructions = [(line[:2] == 'on', Cuboid(*Interval.parse(line)))\n",
    "                    for line in raw.splitlines()]\n",
    "\n",
    "    cuboids = []\n",
    "    for is_on, current in instructions:\n",
    "        diffs = []\n",
    "        for cuboid in cuboids:\n",
    "            diffs.extend(cuboid - current)\n",
    "        if is_on:\n",
    "            diffs.append(current)\n",
    "        cuboids = diffs\n",
    "    return cuboids\n",
    "\n",
    "\n",
    "@submit(day=DAY)\n",
    "def part_one(raw):\n",
    "    cuboids = parse_input(raw)\n",
    "    return sum(cuboid.clip(-50, 50).volume for cuboid in cuboids)"
   ],
   "metadata": {
    "collapsed": false,
    "pycharm": {
     "name": "#%%\n"
    }
   }
  },
  {
   "cell_type": "code",
   "execution_count": 18,
   "outputs": [
    {
     "name": "stdout",
     "output_type": "stream",
     "text": [
      "part_two:\n",
      "✅ input:   1261885414840992 (4.95 ms)\n"
     ]
    }
   ],
   "source": [
    "@submit(day=DAY, skip_example=True)\n",
    "def part_two(raw):\n",
    "    cuboids = parse_input(raw)\n",
    "    return sum(cuboid.volume for cuboid in cuboids)"
   ],
   "metadata": {
    "collapsed": false,
    "pycharm": {
     "name": "#%%\n"
    }
   }
  },
  {
   "cell_type": "code",
   "execution_count": 18,
   "outputs": [],
   "source": [],
   "metadata": {
    "collapsed": false,
    "pycharm": {
     "name": "#%%\n"
    }
   }
  }
 ],
 "metadata": {
  "kernelspec": {
   "display_name": "Python 3",
   "language": "python",
   "name": "python3"
  },
  "language_info": {
   "codemirror_mode": {
    "name": "ipython",
    "version": 2
   },
   "file_extension": ".py",
   "mimetype": "text/x-python",
   "name": "python",
   "nbconvert_exporter": "python",
   "pygments_lexer": "ipython2",
   "version": "2.7.6"
  }
 },
 "nbformat": 4,
 "nbformat_minor": 0
}