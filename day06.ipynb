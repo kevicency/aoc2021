{
 "cells": [
  {
   "cell_type": "code",
   "execution_count": 7,
   "metadata": {
    "collapsed": true
   },
   "outputs": [],
   "source": [
    "from aoc import submit, raw\n",
    "import numpy as np\n",
    "\n",
    "DAY = 6\n",
    "INPUT = raw(day=DAY).split(',')\n",
    "BUCKETS = np.array([INPUT.count(str(i)) for i in range(0, 9)])"
   ]
  },
  {
   "cell_type": "code",
   "execution_count": 8,
   "outputs": [
    {
     "name": "stdout",
     "output_type": "stream",
     "text": [
      "part_one: 350605 (1.86 ms)\n",
      "✅ That's the right answer!\n"
     ]
    }
   ],
   "source": [
    "def step(bucket):\n",
    "    bucket = np.roll(bucket, -1)\n",
    "    bucket[6] += bucket[8]\n",
    "    return bucket\n",
    "\n",
    "\n",
    "def simulate(initial, n):\n",
    "    return initial if n == 0 else simulate(step(initial), n - 1)\n",
    "\n",
    "\n",
    "@submit(day=DAY)\n",
    "def part_one():\n",
    "    return sum(simulate(BUCKETS, 80))"
   ],
   "metadata": {
    "collapsed": false,
    "pycharm": {
     "name": "#%%\n"
    }
   }
  },
  {
   "cell_type": "code",
   "execution_count": 9,
   "outputs": [
    {
     "name": "stdout",
     "output_type": "stream",
     "text": [
      "part_two: 1592778185024 (5.59 ms)\n",
      "✅ That's the right answer!\n"
     ]
    }
   ],
   "source": [
    "@submit(day=DAY)\n",
    "def part_two():\n",
    "    return sum(simulate(BUCKETS, 256))"
   ],
   "metadata": {
    "collapsed": false,
    "pycharm": {
     "name": "#%%\n"
    }
   }
  }
 ],
 "metadata": {
  "kernelspec": {
   "display_name": "Python 3",
   "language": "python",
   "name": "python3"
  },
  "language_info": {
   "codemirror_mode": {
    "name": "ipython",
    "version": 2
   },
   "file_extension": ".py",
   "mimetype": "text/x-python",
   "name": "python",
   "nbconvert_exporter": "python",
   "pygments_lexer": "ipython2",
   "version": "2.7.6"
  }
 },
 "nbformat": 4,
 "nbformat_minor": 0
}