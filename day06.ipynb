{
 "cells": [
  {
   "cell_type": "code",
   "execution_count": 1,
   "metadata": {
    "collapsed": true
   },
   "outputs": [],
   "source": [
    "from aoc import submit\n",
    "import numpy as np\n",
    "\n",
    "DAY = 6"
   ]
  },
  {
   "cell_type": "code",
   "execution_count": 2,
   "outputs": [
    {
     "name": "stdout",
     "output_type": "stream",
     "text": [
      "part_one:\n",
      "⏩ example: skipped        (no input)\n",
      "✅ input:   350605         (1.19 ms)\n"
     ]
    }
   ],
   "source": [
    "def parse_input(raw):\n",
    "    fish = raw.split(',')\n",
    "    return np.array([fish.count(str(i)) for i in range(0, 9)])\n",
    "\n",
    "\n",
    "def step(bucket):\n",
    "    bucket = np.roll(bucket, -1)\n",
    "    bucket[6] += bucket[8]\n",
    "    return bucket\n",
    "\n",
    "\n",
    "def simulate(initial, n):\n",
    "    return initial if n == 0 else simulate(step(initial), n - 1)\n",
    "\n",
    "\n",
    "@submit(day=DAY)\n",
    "def part_one(raw):\n",
    "    buckets = parse_input(raw)\n",
    "    return sum(simulate(buckets, 80))"
   ],
   "metadata": {
    "collapsed": false,
    "pycharm": {
     "name": "#%%\n"
    }
   }
  },
  {
   "cell_type": "code",
   "execution_count": 3,
   "outputs": [
    {
     "name": "stdout",
     "output_type": "stream",
     "text": [
      "part_two:\n",
      "⏩ example: skipped        (no input)\n",
      "✅ input:   1592778185024  (3.86 ms)\n"
     ]
    }
   ],
   "source": [
    "@submit(day=DAY)\n",
    "def part_two(raw):\n",
    "    buckets = parse_input(raw)\n",
    "    return sum(simulate(buckets, 256))"
   ],
   "metadata": {
    "collapsed": false,
    "pycharm": {
     "name": "#%%\n"
    }
   }
  }
 ],
 "metadata": {
  "kernelspec": {
   "display_name": "Python 3",
   "language": "python",
   "name": "python3"
  },
  "language_info": {
   "codemirror_mode": {
    "name": "ipython",
    "version": 2
   },
   "file_extension": ".py",
   "mimetype": "text/x-python",
   "name": "python",
   "nbconvert_exporter": "python",
   "pygments_lexer": "ipython2",
   "version": "2.7.6"
  }
 },
 "nbformat": 4,
 "nbformat_minor": 0
}