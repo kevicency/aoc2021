{
 "cells": [
  {
   "cell_type": "code",
   "execution_count": 21,
   "metadata": {
    "collapsed": true
   },
   "outputs": [],
   "source": [
    "from itertools import product\n",
    "\n",
    "from aoc import submit\n",
    "import networkx as nx\n",
    "import numpy as np\n",
    "\n",
    "DAY = 15\n",
    "DIRS = [(-1, 0), (1, 0), (0, -1), (0, 1)]"
   ]
  },
  {
   "cell_type": "code",
   "execution_count": 45,
   "outputs": [
    {
     "name": "stdout",
     "output_type": "stream",
     "text": [
      "part_one:\n",
      "✅ example: 40             (1.54 ms)\n",
      "✅ input:   441            (115.95 ms)\n"
     ]
    }
   ],
   "source": [
    "def parse_input(raw, repeat=1):\n",
    "    grid = np.array([[int(x) for x in line] for line in raw.splitlines()])\n",
    "    graph = nx.DiGraph()\n",
    "    for y, x in product(*map(lambda axis: range(axis * repeat), grid.shape)):\n",
    "        ydiv, ymod = divmod(y, grid.shape[0])\n",
    "        xdiv, xmod = divmod(x, grid.shape[1])\n",
    "        weight = grid[ymod, xmod] + ydiv + xdiv\n",
    "        while weight > 9:\n",
    "            weight -= 9\n",
    "        for dy, dx in DIRS:\n",
    "            graph.add_edge((y + dy, x + dx), (y, x), weight=weight)\n",
    "    return graph, grid.shape\n",
    "\n",
    "\n",
    "@submit(day=DAY)\n",
    "def part_one(raw):\n",
    "    graph, size = parse_input(raw)\n",
    "    return nx.dijkstra_path_length(graph, (0, 0), (size[0] - 1, size[1] - 1))"
   ],
   "metadata": {
    "collapsed": false,
    "pycharm": {
     "name": "#%%\n"
    }
   }
  },
  {
   "cell_type": "code",
   "execution_count": 47,
   "outputs": [
    {
     "name": "stdout",
     "output_type": "stream",
     "text": [
      "part_two:\n",
      "✅ example: 315            (32.73 ms)\n",
      "✅ input:   2849           (3878.95 ms)\n"
     ]
    }
   ],
   "source": [
    "@submit(day=DAY)\n",
    "def part_two(raw):\n",
    "    graph, size = parse_input(raw, repeat=5)\n",
    "    return nx.dijkstra_path_length(graph, (0, 0), (5 * size[0] - 1, 5 * size[1] - 1))"
   ],
   "metadata": {
    "collapsed": false,
    "pycharm": {
     "name": "#%%\n"
    }
   }
  }
 ],
 "metadata": {
  "kernelspec": {
   "display_name": "Python 3",
   "language": "python",
   "name": "python3"
  },
  "language_info": {
   "codemirror_mode": {
    "name": "ipython",
    "version": 2
   },
   "file_extension": ".py",
   "mimetype": "text/x-python",
   "name": "python",
   "nbconvert_exporter": "python",
   "pygments_lexer": "ipython2",
   "version": "2.7.6"
  }
 },
 "nbformat": 4,
 "nbformat_minor": 0
}