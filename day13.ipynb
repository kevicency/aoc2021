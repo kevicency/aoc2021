{
 "cells": [
  {
   "cell_type": "code",
   "execution_count": 65,
   "metadata": {
    "collapsed": true
   },
   "outputs": [],
   "source": [
    "import re\n",
    "from operator import itemgetter\n",
    "import numpy as np\n",
    "from aoc import submit, raw\n",
    "\n",
    "DAY = 13\n",
    "INPUT = raw(day=DAY)\n",
    "\n",
    "\n",
    "def parse_input():\n",
    "    dots, folds = INPUT.split('\\n\\n')\n",
    "    dots = [(int(x), int(y)) for x, y in re.findall(r\"(\\d+),(\\d+)\", dots)]\n",
    "    folds = [(axis == 'x', int(n)) for axis, n in re.findall(r\"fold along ([xy])=(\\d+)\", folds)]\n",
    "    paper = np.zeros((max(map(itemgetter(1), dots)) + 1, max(map(itemgetter(0), dots)) + 1), dtype=bool)\n",
    "    for (x, y) in dots:\n",
    "        paper[y, x] = 1\n",
    "    return paper, folds"
   ]
  },
  {
   "cell_type": "code",
   "execution_count": 66,
   "outputs": [
    {
     "name": "stdout",
     "output_type": "stream",
     "text": [
      "part_one: 842 (3.14 ms)\n",
      "✅ That's the right answer!\n"
     ]
    }
   ],
   "source": [
    "def fold(paper, folds):\n",
    "    for axis, n in folds:\n",
    "        top, _, bottom = np.split(paper, [n, n + 1], axis=axis)\n",
    "        paper = top | np.flip(bottom, axis)\n",
    "    return paper\n",
    "\n",
    "\n",
    "@submit(day=DAY)\n",
    "def part_one():\n",
    "    paper, folds = parse_input()\n",
    "    return fold(paper, [folds[0]]).sum()"
   ],
   "metadata": {
    "collapsed": false,
    "pycharm": {
     "name": "#%%\n"
    }
   }
  },
  {
   "cell_type": "code",
   "execution_count": 67,
   "outputs": [
    {
     "name": "stdout",
     "output_type": "stream",
     "text": [
      "###..####.#..#.###...##....##.####.#..#.\n",
      "#..#.#....#.#..#..#.#..#....#....#.#..#.\n",
      "###..###..##...#..#.#.......#...#..#..#.\n",
      "#..#.#....#.#..###..#.......#..#...#..#.\n",
      "#..#.#....#.#..#.#..#..#.#..#.#....#..#.\n",
      "###..#....#..#.#..#..##...##..####..##..\n",
      "part_two: BFKRCJZU (3.23 ms)\n",
      "✅ That's the right answer!\n"
     ]
    }
   ],
   "source": [
    "@submit(day=DAY)\n",
    "def part_two():\n",
    "    paper, folds = parse_input()\n",
    "    paper = fold(paper, folds)\n",
    "\n",
    "    for line in paper:\n",
    "        print(''.join('#' if n == 1 else '.' for n in line))\n",
    "    return 'BFKRCJZU'"
   ],
   "metadata": {
    "collapsed": false,
    "pycharm": {
     "name": "#%%\n"
    }
   }
  }
 ],
 "metadata": {
  "kernelspec": {
   "display_name": "Python 3",
   "language": "python",
   "name": "python3"
  },
  "language_info": {
   "codemirror_mode": {
    "name": "ipython",
    "version": 2
   },
   "file_extension": ".py",
   "mimetype": "text/x-python",
   "name": "python",
   "nbconvert_exporter": "python",
   "pygments_lexer": "ipython2",
   "version": "2.7.6"
  }
 },
 "nbformat": 4,
 "nbformat_minor": 0
}