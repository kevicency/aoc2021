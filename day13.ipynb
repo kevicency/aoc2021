{
 "cells": [
  {
   "cell_type": "code",
   "execution_count": 8,
   "metadata": {
    "collapsed": true
   },
   "outputs": [],
   "source": [
    "import re\n",
    "from functools import reduce\n",
    "from operator import itemgetter\n",
    "import numpy as np\n",
    "from aoc import submit\n",
    "\n",
    "DAY = 13"
   ]
  },
  {
   "cell_type": "code",
   "execution_count": 9,
   "outputs": [
    {
     "name": "stdout",
     "output_type": "stream",
     "text": [
      "part_one:\n",
      "⏩ example: no input       (skipped)\n",
      "✅ input:   842            (4.70 ms)\n"
     ]
    }
   ],
   "source": [
    "def parse_input(raw):\n",
    "    dots, folds = raw.split('\\n\\n')\n",
    "    dots = [(int(x), int(y)) for x, y in re.findall(r\"(\\d+),(\\d+)\", dots)]\n",
    "    folds = [(axis == 'x', int(n)) for axis, n in re.findall(r\"fold along ([xy])=(\\d+)\", folds)]\n",
    "    paper = np.zeros((max(map(itemgetter(1), dots)) + 1, max(map(itemgetter(0), dots)) + 1), dtype=bool)\n",
    "    for (x, y) in dots:\n",
    "        paper[y, x] = 1\n",
    "    return paper, folds\n",
    "\n",
    "def fold(paper, axis, n):\n",
    "    top, _, bottom = np.split(paper, [n, n + 1], axis=axis)\n",
    "    return top | np.flip(bottom, axis)\n",
    "\n",
    "\n",
    "@submit(day=DAY)\n",
    "def part_one(raw):\n",
    "    paper, folds = parse_input(raw)\n",
    "    return fold(paper, *folds[0]).sum()"
   ],
   "metadata": {
    "collapsed": false,
    "pycharm": {
     "name": "#%%\n"
    }
   }
  },
  {
   "cell_type": "code",
   "execution_count": 10,
   "outputs": [
    {
     "name": "stdout",
     "output_type": "stream",
     "text": [
      "part_two:\n",
      "⏩ example: no input       (skipped)\n",
      "███  ████ █  █ ███   ██    ██ ████ █  █ \n",
      "█  █ █    █ █  █  █ █  █    █    █ █  █ \n",
      "███  ███  ██   █  █ █       █   █  █  █ \n",
      "█  █ █    █ █  ███  █       █  █   █  █ \n",
      "█  █ █    █ █  █ █  █  █ █  █ █    █  █ \n",
      "███  █    █  █ █  █  ██   ██  ████  ██  \n",
      "✅ input:   BFKRCJZU       (4.56 ms)\n"
     ]
    }
   ],
   "source": [
    "@submit(day=DAY)\n",
    "def part_two(raw):\n",
    "    paper, folds = parse_input(raw)\n",
    "    paper = reduce(lambda acc, f: fold(acc, *f), folds, paper)\n",
    "    for line in paper:\n",
    "        print(''.join('█' if n == 1 else ' ' for n in line))\n",
    "    return 'BFKRCJZU'"
   ],
   "metadata": {
    "collapsed": false,
    "pycharm": {
     "name": "#%%\n"
    }
   }
  }
 ],
 "metadata": {
  "kernelspec": {
   "display_name": "Python 3",
   "language": "python",
   "name": "python3"
  },
  "language_info": {
   "codemirror_mode": {
    "name": "ipython",
    "version": 2
   },
   "file_extension": ".py",
   "mimetype": "text/x-python",
   "name": "python",
   "nbconvert_exporter": "python",
   "pygments_lexer": "ipython2",
   "version": "2.7.6"
  }
 },
 "nbformat": 4,
 "nbformat_minor": 0
}