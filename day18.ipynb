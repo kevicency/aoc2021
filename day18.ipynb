{
 "cells": [
  {
   "cell_type": "code",
   "execution_count": 9,
   "metadata": {
    "collapsed": true
   },
   "outputs": [],
   "source": [
    "from ast import literal_eval\n",
    "from itertools import product\n",
    "import functools as ft\n",
    "from math import floor, ceil\n",
    "from aoc import submit\n",
    "\n",
    "DAY = 18\n"
   ]
  },
  {
   "cell_type": "code",
   "execution_count": 10,
   "outputs": [],
   "source": [
    "import re\n",
    "\n",
    "rx_explode_pair = re.compile(r\"\\[(\\d+),(\\d+)]\")\n",
    "rx_explode_ls = re.compile(r\"(\\d+)(?!.*\\d+)\")\n",
    "rx_explode_rs = re.compile(r\"\\d+\")\n",
    "rx_d = re.compile(r\"\\d+\")\n",
    "\n",
    "\n",
    "def replace_match(string, replacement, match, offset=0):\n",
    "    span = match.span()\n",
    "    return string[:span[0] + offset] + replacement + string[span[1] + offset:]\n",
    "\n",
    "\n",
    "def find_explode_index(snailfish):\n",
    "    count = 0\n",
    "    for match in re.finditer(\"[\\[\\]]\", snailfish):\n",
    "        count += 1 if match.group() == '[' else -1\n",
    "        if count == 5:\n",
    "            return max(0, match.span()[0])\n",
    "\n",
    "\n",
    "def explode(snailfish):\n",
    "    index = find_explode_index(snailfish)\n",
    "    if index is not None:\n",
    "        pair = rx_explode_pair.search(snailfish[index:])\n",
    "        ls = rx_explode_ls.search(snailfish[:index])\n",
    "        rs = rx_explode_rs.search(snailfish[index + pair.end():])\n",
    "        x, y = pair.groups()\n",
    "        if rs:\n",
    "            snailfish = replace_match(snailfish, str(int(y) + int(rs.group())), rs, index + pair.end())\n",
    "        snailfish = replace_match(snailfish, '0', pair, index)\n",
    "        if ls:\n",
    "            snailfish = replace_match(snailfish, str(int(x) + int(ls.group())), ls)\n",
    "        return snailfish, True\n",
    "    return snailfish, False\n",
    "\n",
    "\n",
    "def split(snailfish):\n",
    "    match = re.search(r\"\\d{2,}\", snailfish)\n",
    "    if match:\n",
    "        value = int(match.group())\n",
    "        return replace_match(snailfish, f\"[{value // 2},{value // 2 + (value % 2)}]\", match), True\n",
    "    return snailfish, False\n",
    "\n",
    "\n",
    "def add(snail, fish):\n",
    "    return f\"[{snail},{fish}]\"\n",
    "\n",
    "\n",
    "def reduce(snailfish):\n",
    "    reduced = True\n",
    "    while reduced:\n",
    "        snailfish, reduced = explode(snailfish)\n",
    "        if not reduced:\n",
    "            snailfish, reduced = split(snailfish)\n",
    "    return snailfish\n",
    "\n",
    "\n",
    "def magnitude(snailfish):\n",
    "    snailfish = snailfish.replace(\"[\", \"(3*\").replace(\",\", \"+2*\").replace(\"]\", \")\")\n",
    "    result = eval(snailfish)\n",
    "    return result\n"
   ],
   "metadata": {
    "collapsed": false,
    "pycharm": {
     "name": "#%%\n"
    }
   }
  },
  {
   "cell_type": "code",
   "execution_count": 17,
   "outputs": [
    {
     "name": "stdout",
     "output_type": "stream",
     "text": [
      "part_one:\n",
      "✅ example: 4140           (31.77 ms)\n",
      "✅ input:   4116           (207.62 ms)\n"
     ]
    }
   ],
   "source": [
    "@submit(day=DAY)\n",
    "def part_one(raw):\n",
    "    snailfish, *rest = raw.splitlines()\n",
    "    for other in rest:\n",
    "        snailfish = reduce(add(snailfish, other))\n",
    "\n",
    "    return magnitude(snailfish)"
   ],
   "metadata": {
    "collapsed": false,
    "pycharm": {
     "name": "#%%\n"
    }
   }
  },
  {
   "cell_type": "code",
   "execution_count": 21,
   "outputs": [
    {
     "name": "stdout",
     "output_type": "stream",
     "text": [
      "part_two:\n",
      "✅ example: 3993           (48.54 ms)\n",
      "✅ input:   4638           (3784.28 ms)\n"
     ]
    }
   ],
   "source": [
    "@submit(day=DAY)\n",
    "def part_two(raw):\n",
    "    return max(\n",
    "        magnitude(reduce(add(snail, fish)))\n",
    "        for snail, fish in product(raw.splitlines(), repeat=2)\n",
    "        if snail is not fish\n",
    "    )"
   ],
   "metadata": {
    "collapsed": false,
    "pycharm": {
     "name": "#%%\n"
    }
   }
  },
  {
   "cell_type": "code",
   "execution_count": 13,
   "outputs": [],
   "source": [
    "import ipytest\n",
    "ipytest.autoconfig()"
   ],
   "metadata": {
    "collapsed": false,
    "pycharm": {
     "name": "#%%\n"
    }
   }
  },
  {
   "cell_type": "code",
   "execution_count": 14,
   "outputs": [
    {
     "name": "stdout",
     "output_type": "stream",
     "text": [
      "..........                                                                                   [100%]\n"
     ]
    }
   ],
   "source": [
    "%%ipytest -qq --color=no\n",
    "\n",
    "import pytest\n",
    "\n",
    "\n",
    "@pytest.mark.parametrize('snailfish,expected', [\n",
    "    (\"[[[[[9,8],1],2],3],4]\", \"[[[[0,9],2],3],4]\"),\n",
    "    (\"[1,[[[[9,8],1],2],3],4]\", \"[10,[[[0,9],2],3],4]\"),\n",
    "    (\"[7,[6,[5,[4,[3,2]]]]]\", \"[7,[6,[5,[7,0]]]]\"),\n",
    "    (\"[[6,[5,[4,[3,2]]]],1]\", \"[[6,[5,[7,0]]],3]\"),\n",
    "    (\"[[3,[2,[1,[7,3]]]],[6,[5,[4,[3,2]]]]]\", \"[[3,[2,[8,0]]],[9,[5,[4,[3,2]]]]]\"),\n",
    "    (\"[[3,[2,[8,0]]],[9,[5,[4,[3,2]]]]]\", \"[[3,[2,[8,0]]],[9,[5,[7,0]]]]\"),\n",
    "    (\"[[[[0,[5,8]],[[1,7],[9,6]]],[[4,[1,2]],[[1,4],2]]],[[[5,[2,8]],4],[5,[[9,9],0]]]]\",\n",
    "     '[[[[5,0],[[9,7],[9,6]]],[[4,[1,2]],[[1,4],2]]],[[[5,[2,8]],4],[5,[[9,9],0]]]]'),\n",
    "    (\"[[[[5,0],[[9,7],[9,6]]],[[4,[1,2]],[[1,4],2]]],[[[5,[2,8]],4],[5,[[9,9],0]]]]\",\n",
    "     \"[[[[5,9],[0,[16,6]]],[[4,[1,2]],[[1,4],2]]],[[[5,[2,8]],4],[5,[[9,9],0]]]]\")\n",
    "])\n",
    "def test_explode(snailfish, expected):\n",
    "    reduced, matched = explode(snailfish)\n",
    "    assert reduced == expected\n",
    "\n",
    "\n",
    "def test_add():\n",
    "    assert add(\"[[[[4,3],4],4],[7,[[8,4],9]]]\", \"[1,1]\") == \"[[[[[4,3],4],4],[7,[[8,4],9]]],[1,1]]\"\n",
    "\n",
    "\n",
    "def test_magnitude():\n",
    "    assert magnitude(\"[[[[8,7],[7,7]],[[8,6],[7,7]]],[[[0,7],[6,6]],[8,7]]]\") == 3488"
   ],
   "metadata": {
    "collapsed": false,
    "pycharm": {
     "name": "#%%\n"
    }
   }
  },
  {
   "cell_type": "code",
   "execution_count": 19,
   "outputs": [
    {
     "name": "stdout",
     "output_type": "stream",
     "text": [
      "part_one:\n",
      "✅ example: 4140           (47.73 ms)\n",
      "✅ input:   4116           (347.94 ms)\n"
     ]
    }
   ],
   "source": [
    "def isnode(obj):\n",
    "    return isinstance(obj, Node)\n",
    "\n",
    "\n",
    "class Node:\n",
    "    def __init__(self, left, right, parent=None):\n",
    "        self.left = left\n",
    "        self.right = right\n",
    "        self.parent = parent\n",
    "\n",
    "        if isnode(left): left.parent = self\n",
    "        if isnode(right): right.parent = self\n",
    "\n",
    "    def __repr__(self):\n",
    "        return f\"[{self.left},{self.right}]\"\n",
    "\n",
    "    def __iter__(self):\n",
    "        if isnode(self.left):\n",
    "            yield from self.left\n",
    "\n",
    "        yield self\n",
    "\n",
    "        if isnode(self.right):\n",
    "            yield from self.right\n",
    "\n",
    "    def __add__(self, other):\n",
    "        return Node(self, other).reduce()\n",
    "\n",
    "    @property\n",
    "    def is_root(self):\n",
    "        return self.parent is None\n",
    "\n",
    "    @property\n",
    "    def depth(self):\n",
    "        return 0 if self.is_root else self.parent.depth + 1\n",
    "\n",
    "    @property\n",
    "    def magnitude(self):\n",
    "        left = self.left.magnitude if isnode(self.left) else self.left\n",
    "        right = self.right.magnitude if isnode(self.right) else self.right\n",
    "\n",
    "        return 3 * left + 2 * right\n",
    "\n",
    "    @property\n",
    "    def first_node(self):\n",
    "        return self.left.first_node if isnode(self.left) else self\n",
    "\n",
    "    @property\n",
    "    def last_node(self):\n",
    "        return self.right.last_node if isnode(self.right) else self\n",
    "\n",
    "    @property\n",
    "    def next_node(self):\n",
    "        if self.is_root: return None\n",
    "        parent = self.parent\n",
    "\n",
    "        if parent.right == self:\n",
    "            return parent.next_node\n",
    "\n",
    "        return parent.right.first_node if isnode(parent.right) else parent\n",
    "\n",
    "    @property\n",
    "    def prev_node(self):\n",
    "        if self.is_root: return None\n",
    "        parent = self.parent\n",
    "\n",
    "        if parent.left == self:\n",
    "            return parent.prev_node\n",
    "\n",
    "        return parent.left.last_node if isnode(parent.left) else parent\n",
    "\n",
    "    def split(self):\n",
    "        left, right = self.left, self.right\n",
    "\n",
    "        if not isnode(left) and left > 9:\n",
    "            self.left = Node(floor(left / 2), ceil(left / 2), self)\n",
    "            return True\n",
    "\n",
    "        if not isnode(right) and right > 9:\n",
    "            self.right = Node(floor(right / 2), ceil(right / 2), self)\n",
    "            return True\n",
    "\n",
    "        return False\n",
    "\n",
    "    def explode(self):\n",
    "        if self.depth != 4:\n",
    "            return False\n",
    "\n",
    "        previous_node, next_node = self.prev_node, self.next_node\n",
    "\n",
    "        if previous_node:\n",
    "            if isnode(previous_node.right):\n",
    "                previous_node.left += self.left\n",
    "            else:\n",
    "                previous_node.right += self.left\n",
    "\n",
    "        if next_node:\n",
    "            if isnode(next_node.left):\n",
    "                next_node.right += self.right\n",
    "            else:\n",
    "                next_node.left += self.right\n",
    "\n",
    "        if self.parent.left is self:\n",
    "            self.parent.left = 0\n",
    "        else:\n",
    "            self.parent.right = 0\n",
    "\n",
    "        return True\n",
    "\n",
    "    def reduce(self):\n",
    "        while (\n",
    "                any(node.explode() for node in self)\n",
    "                or any(node.split() for node in self)\n",
    "        ):\n",
    "            continue\n",
    "        return self\n",
    "\n",
    "    def clone(self):\n",
    "        left = self.left.clone() if isnode(self.left) else self.left\n",
    "        right = self.right.clone() if isnode(self.right) else self.right\n",
    "\n",
    "        return Node(left, right)\n",
    "\n",
    "\n",
    "def tree(value):\n",
    "    try:\n",
    "        left, right = value\n",
    "    except TypeError:\n",
    "        return value\n",
    "    else:\n",
    "        return Node(tree(left), tree(right))\n",
    "\n",
    "\n",
    "def parse_input(raw):\n",
    "    return [tree(literal_eval(line)) for line in raw.splitlines()]\n",
    "\n",
    "\n",
    "@submit(day=DAY)\n",
    "def part_one(raw):\n",
    "    return ft.reduce(lambda snail, fish: snail + fish, parse_input(raw)).magnitude"
   ],
   "metadata": {
    "collapsed": false,
    "pycharm": {
     "name": "#%%\n"
    }
   }
  },
  {
   "cell_type": "code",
   "execution_count": 20,
   "outputs": [
    {
     "name": "stdout",
     "output_type": "stream",
     "text": [
      "part_two:\n",
      "✅ example: 3993           (67.64 ms)\n",
      "✅ input:   4638           (5113.80 ms)\n"
     ]
    }
   ],
   "source": [
    "@submit(day=DAY)\n",
    "def part_two(raw):\n",
    "    return max(\n",
    "        (snail.clone() + fish.clone()).magnitude\n",
    "        for snail, fish in product(parse_input(raw), repeat=2)\n",
    "        if snail is not fish\n",
    "    )\n"
   ],
   "metadata": {
    "collapsed": false,
    "pycharm": {
     "name": "#%%\n"
    }
   }
  }
 ],
 "metadata": {
  "kernelspec": {
   "display_name": "Python 3",
   "language": "python",
   "name": "python3"
  },
  "language_info": {
   "codemirror_mode": {
    "name": "ipython",
    "version": 2
   },
   "file_extension": ".py",
   "mimetype": "text/x-python",
   "name": "python",
   "nbconvert_exporter": "python",
   "pygments_lexer": "ipython2",
   "version": "2.7.6"
  }
 },
 "nbformat": 4,
 "nbformat_minor": 0
}