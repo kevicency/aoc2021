{
 "cells": [
  {
   "cell_type": "code",
   "execution_count": 8,
   "metadata": {
    "collapsed": true
   },
   "outputs": [],
   "source": [
    "import ipytest\n",
    "from aoc import submit\n",
    "import re\n",
    "\n",
    "DAY = 18\n",
    "ipytest.autoconfig()"
   ]
  },
  {
   "cell_type": "code",
   "execution_count": 9,
   "outputs": [],
   "source": [
    "rx_explode_pair = re.compile(r\"\\[(\\d+),(\\d+)]\")\n",
    "rx_explode_ls = re.compile(r\"(\\d+)(?!.*\\d+)\")\n",
    "rx_explode_rs = re.compile(r\"\\d+\")\n",
    "rx_d = re.compile(r\"\\d+\")\n",
    "\n",
    "\n",
    "def replace_match(string, replacement, match, offset=0):\n",
    "    span = match.span()\n",
    "    return string[:span[0] + offset] + replacement + string[span[1] + offset:]\n",
    "\n",
    "\n",
    "def find_explode_index(snailfish):\n",
    "    count = 0\n",
    "    for match in re.finditer(\"[\\[\\]]\", snailfish):\n",
    "        count += 1 if match.group() == '[' else -1\n",
    "        if count == 5:\n",
    "            return max(0, match.span()[0])\n",
    "\n",
    "\n",
    "def explode(snailfish):\n",
    "    index = find_explode_index(snailfish)\n",
    "    if index is not None:\n",
    "        pair = rx_explode_pair.search(snailfish[index:])\n",
    "        ls = rx_explode_ls.search(snailfish[:index])\n",
    "        rs = rx_explode_rs.search(snailfish[index + pair.end():])\n",
    "        x, y = pair.groups()\n",
    "        if rs:\n",
    "            snailfish = replace_match(snailfish, str(int(y) + int(rs.group())), rs, index + pair.end())\n",
    "        snailfish = replace_match(snailfish, '0', pair, index)\n",
    "        if ls:\n",
    "            snailfish = replace_match(snailfish, str(int(x) + int(ls.group())), ls)\n",
    "        return snailfish, True\n",
    "    return snailfish, False\n",
    "\n",
    "\n",
    "def split(snailfish):\n",
    "    match = re.search(r\"\\d{2,}\", snailfish)\n",
    "    if match:\n",
    "        value = int(match.group())\n",
    "        return replace_match(snailfish, f\"[{value // 2},{value // 2 + (value % 2)}]\", match), True\n",
    "    return snailfish, False\n",
    "\n",
    "\n",
    "def add(snail, fish):\n",
    "    return f\"[{snail},{fish}]\"\n",
    "\n",
    "\n",
    "def reduce(snailfish):\n",
    "    reduced = True\n",
    "    while reduced:\n",
    "        snailfish, reduced = explode(snailfish)\n",
    "        if not reduced:\n",
    "            snailfish, reduced = split(snailfish)\n",
    "    return snailfish\n",
    "\n",
    "\n",
    "def magnitude(snailfish):\n",
    "    return eval(snailfish.replace(\"[\", \"(3*\").replace(\",\", \"+2*\").replace(\"]\", \")\"))\n"
   ],
   "metadata": {
    "collapsed": false,
    "pycharm": {
     "name": "#%%\n"
    }
   }
  },
  {
   "cell_type": "code",
   "execution_count": 10,
   "outputs": [
    {
     "name": "stdout",
     "output_type": "stream",
     "text": [
      "part_one:\n",
      "✅ example: 4140           (37.35 ms)\n",
      "✅ input:   4116           (237.26 ms)\n"
     ]
    }
   ],
   "source": [
    "@submit(day=DAY, skip_input=False)\n",
    "def part_one(raw):\n",
    "    snailfish, *rest = raw.splitlines()\n",
    "    for other in rest:\n",
    "        snailfish = reduce(add(snailfish, other))\n",
    "    return magnitude(snailfish)"
   ],
   "metadata": {
    "collapsed": false,
    "pycharm": {
     "name": "#%%\n"
    }
   }
  },
  {
   "cell_type": "code",
   "execution_count": 11,
   "outputs": [
    {
     "name": "stdout",
     "output_type": "stream",
     "text": [
      "part_two:\n",
      "✅ example: 3993           (47.06 ms)\n",
      "✅ input:   4638           (3989.57 ms)\n"
     ]
    }
   ],
   "source": [
    "@submit(day=DAY)\n",
    "def part_two(raw):\n",
    "    from itertools import product\n",
    "    result = 0\n",
    "    for snail, fish in product(raw.splitlines(), repeat=2):\n",
    "        if snail != fish:\n",
    "            result = max(result, magnitude(reduce(add(snail, fish))))\n",
    "    return result\n"
   ],
   "metadata": {
    "collapsed": false,
    "pycharm": {
     "name": "#%%\n"
    }
   }
  },
  {
   "cell_type": "code",
   "execution_count": 12,
   "outputs": [
    {
     "name": "stdout",
     "output_type": "stream",
     "text": [
      "..........                                                                                   [100%]\n"
     ]
    }
   ],
   "source": [
    "%%ipytest -qq --color=no\n",
    "\n",
    "import pytest\n",
    "\n",
    "\n",
    "@pytest.mark.parametrize('snailfish,expected', [\n",
    "    (\"[[[[[9,8],1],2],3],4]\", \"[[[[0,9],2],3],4]\"),\n",
    "    (\"[1,[[[[9,8],1],2],3],4]\", \"[10,[[[0,9],2],3],4]\"),\n",
    "    (\"[7,[6,[5,[4,[3,2]]]]]\", \"[7,[6,[5,[7,0]]]]\"),\n",
    "    (\"[[6,[5,[4,[3,2]]]],1]\", \"[[6,[5,[7,0]]],3]\"),\n",
    "    (\"[[3,[2,[1,[7,3]]]],[6,[5,[4,[3,2]]]]]\", \"[[3,[2,[8,0]]],[9,[5,[4,[3,2]]]]]\"),\n",
    "    (\"[[3,[2,[8,0]]],[9,[5,[4,[3,2]]]]]\", \"[[3,[2,[8,0]]],[9,[5,[7,0]]]]\"),\n",
    "    (\"[[[[0,[5,8]],[[1,7],[9,6]]],[[4,[1,2]],[[1,4],2]]],[[[5,[2,8]],4],[5,[[9,9],0]]]]\",\n",
    "     '[[[[5,0],[[9,7],[9,6]]],[[4,[1,2]],[[1,4],2]]],[[[5,[2,8]],4],[5,[[9,9],0]]]]'),\n",
    "    (\"[[[[5,0],[[9,7],[9,6]]],[[4,[1,2]],[[1,4],2]]],[[[5,[2,8]],4],[5,[[9,9],0]]]]\",\n",
    "     \"[[[[5,9],[0,[16,6]]],[[4,[1,2]],[[1,4],2]]],[[[5,[2,8]],4],[5,[[9,9],0]]]]\")\n",
    "])\n",
    "def test_explode(snailfish, expected):\n",
    "    reduced, matched = explode(snailfish)\n",
    "    assert reduced == expected\n",
    "\n",
    "\n",
    "def test_add():\n",
    "    assert add(\"[[[[4,3],4],4],[7,[[8,4],9]]]\", \"[1,1]\") == \"[[[[[4,3],4],4],[7,[[8,4],9]]],[1,1]]\"\n",
    "\n",
    "\n",
    "def test_magnitude():\n",
    "    assert magnitude(\"[[[[8,7],[7,7]],[[8,6],[7,7]]],[[[0,7],[6,6]],[8,7]]]\") == 3488\n"
   ],
   "metadata": {
    "collapsed": false,
    "pycharm": {
     "name": "#%%\n"
    }
   }
  }
 ],
 "metadata": {
  "kernelspec": {
   "display_name": "Python 3",
   "language": "python",
   "name": "python3"
  },
  "language_info": {
   "codemirror_mode": {
    "name": "ipython",
    "version": 2
   },
   "file_extension": ".py",
   "mimetype": "text/x-python",
   "name": "python",
   "nbconvert_exporter": "python",
   "pygments_lexer": "ipython2",
   "version": "2.7.6"
  }
 },
 "nbformat": 4,
 "nbformat_minor": 0
}