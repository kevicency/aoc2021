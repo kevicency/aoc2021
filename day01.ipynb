{
 "cells": [
  {
   "cell_type": "code",
   "execution_count": 1,
   "metadata": {
    "collapsed": true
   },
   "outputs": [],
   "source": [
    "from aoc import submit\n",
    "\n",
    "DAY = 1\n",
    "\n",
    "\n",
    "def parse_input(raw):\n",
    "    return [int(line) for line in raw.splitlines()]\n",
    "\n",
    "\n",
    "def compare(n, lines):\n",
    "    return sum(y > x for x, y in zip(lines, lines[n:]))"
   ]
  },
  {
   "cell_type": "code",
   "execution_count": 2,
   "outputs": [
    {
     "name": "stdout",
     "output_type": "stream",
     "text": [
      "part_one:\n",
      "✅ example:\t7\t(0.01 ms)\n",
      "✅ input:\t1228\t(0.72 ms)\n"
     ]
    }
   ],
   "source": [
    "@submit(day=DAY)\n",
    "def part_one(raw):\n",
    "    return compare(1, parse_input(raw))"
   ],
   "metadata": {
    "collapsed": false,
    "pycharm": {
     "name": "#%%\n"
    }
   }
  },
  {
   "cell_type": "code",
   "execution_count": 3,
   "outputs": [
    {
     "name": "stdout",
     "output_type": "stream",
     "text": [
      "part_two:\n",
      "✅ example:\t5\t(0.01 ms)\n",
      "✅ input:\t1257\t(0.99 ms)\n"
     ]
    }
   ],
   "source": [
    "@submit(day=DAY)\n",
    "def part_two(raw):\n",
    "    return compare(3, parse_input(raw))"
   ],
   "metadata": {
    "collapsed": false,
    "pycharm": {
     "name": "#%%\n"
    }
   }
  },
  {
   "cell_type": "code",
   "execution_count": 3,
   "outputs": [],
   "source": [],
   "metadata": {
    "collapsed": false,
    "pycharm": {
     "name": "#%%\n"
    }
   }
  }
 ],
 "metadata": {
  "kernelspec": {
   "display_name": "Python 3",
   "language": "python",
   "name": "python3"
  },
  "language_info": {
   "codemirror_mode": {
    "name": "ipython",
    "version": 2
   },
   "file_extension": ".py",
   "mimetype": "text/x-python",
   "name": "python",
   "nbconvert_exporter": "python",
   "pygments_lexer": "ipython2",
   "version": "2.7.6"
  }
 },
 "nbformat": 4,
 "nbformat_minor": 0
}