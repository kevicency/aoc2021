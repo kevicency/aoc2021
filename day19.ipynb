{
 "cells": [
  {
   "cell_type": "code",
   "execution_count": 124,
   "metadata": {
    "collapsed": true
   },
   "outputs": [],
   "source": [
    "from functools import cache\n",
    "from itertools import product\n",
    "import numpy as np\n",
    "\n",
    "from aoc import submit\n",
    "\n",
    "DAY = 19\n",
    "ROTATIONS = [\n",
    "    (1, 2, 3), (1, -3, 2), (1, -2, -3), (1, 3, -2),\n",
    "    (2, 3, 1), (2, -1, 3), (2, -3, -1), (2, 1, -3),\n",
    "    (3, 1, 2), (3, -2, 1), (3, -1, -2), (3, 2, -1),\n",
    "    (-1, 3, 2), (-1, -2, 3), (-1, -3, -2), (-1, 2, -3),\n",
    "    (-2, 1, 3), (-2, -3, 1), (-2, -1, -3), (-2, 3, -1),\n",
    "    (-3, 2, 1), (-3, -1, 2), (-3, -2, -1), (-3, 1, -2),\n",
    "]\n",
    "\n",
    "\n",
    "def sign(n):\n",
    "    return -1 if n < 0 else int(n > 0)"
   ]
  },
  {
   "cell_type": "code",
   "execution_count": 131,
   "outputs": [
    {
     "name": "stdout",
     "output_type": "stream",
     "text": [
      "part_one:\n",
      "✅ example: 79             (8.18 ms)\n",
      "✅ input:   405            (460.66 ms)\n"
     ]
    }
   ],
   "source": [
    "def rotate(arr, matrix):\n",
    "    return np.array([arr[abs(m) - 1] * sign(m) for m in matrix])\n",
    "\n",
    "\n",
    "def parse_input(raw):\n",
    "    scanners = [s.splitlines()[1:] for s in raw.split('\\n\\n')]\n",
    "    return [np.array([[*map(int, line.split(','))] for line in scanner]) for scanner in scanners]\n",
    "\n",
    "@cache\n",
    "def solve(raw):\n",
    "    scanners = parse_input(raw)\n",
    "    positions = {0: np.array([0, 0, 0])}\n",
    "    distances = [[np.sum(np.abs(beacons - beacon), axis=1)\n",
    "                  for beacon in beacons]\n",
    "                 for beacons in scanners]\n",
    "\n",
    "    @cache\n",
    "    def distance_set(i, ii):\n",
    "        return set(distances[i][ii])\n",
    "\n",
    "    def overlap(i, j):\n",
    "        for ii, jj in product(range(len(distances[i])), range(len(distances[j]))):\n",
    "            overlaps = distance_set(i, ii) & distance_set(j, jj)\n",
    "            if len(overlaps) >= 12:\n",
    "                return ii, jj, overlaps\n",
    "        return 0, 0, None\n",
    "\n",
    "    def find_rotation(v, w):\n",
    "        for rot in ROTATIONS:\n",
    "            if np.array_equal(v, rotate(w, rot)):\n",
    "                return rot\n",
    "\n",
    "    queue = [0]\n",
    "    while queue and len(positions) < len(scanners):\n",
    "        i = queue.pop()\n",
    "        for j, other in enumerate(scanners):\n",
    "            if positions.get(j) is not None: continue\n",
    "            ii, jj, overlaps = overlap(i, j)\n",
    "\n",
    "            if overlaps:\n",
    "                i_beacon = scanners[i][ii]\n",
    "                j_beacon = scanners[j][jj]\n",
    "                for dist in overlaps:\n",
    "                    if dist == 0: continue\n",
    "                    i_diff = i_beacon - scanners[i][distances[i][ii] == dist]\n",
    "                    j_diff = j_beacon - scanners[j][distances[j][jj] == dist]\n",
    "\n",
    "                    rot = find_rotation(i_diff[0], j_diff[0])\n",
    "                    if rot is None: continue\n",
    "\n",
    "                    positions[j] = i_beacon - rotate(j_beacon, rot)\n",
    "                    scanners[j] = np.array([rotate(b, rot) + positions[j] for b in scanners[j]])\n",
    "                    queue.append(j)\n",
    "                    queue.append(i)\n",
    "                    break\n",
    "\n",
    "    return scanners, positions\n",
    "\n",
    "\n",
    "@submit(day=DAY)\n",
    "def part_one(raw):\n",
    "    scanners, _ = solve(raw)\n",
    "    beacons = set().union([tuple(beacon) for beacons in scanners for beacon in beacons])\n",
    "    return len(beacons)\n"
   ],
   "metadata": {
    "collapsed": false,
    "pycharm": {
     "name": "#%%\n"
    }
   }
  },
  {
   "cell_type": "code",
   "execution_count": 126,
   "outputs": [
    {
     "name": "stdout",
     "output_type": "stream",
     "text": [
      "part_two:\n",
      "✅ example: 3621           (0.14 ms)\n",
      "✅ input:   12306          (5.49 ms)\n"
     ]
    }
   ],
   "source": [
    "@submit(day=DAY)\n",
    "def part_two(raw):\n",
    "    _, positions = solve(raw)\n",
    "    return max(np.sum(np.abs(p1 - p2)) for (p1, p2) in product(positions.values(), repeat=2))"
   ],
   "metadata": {
    "collapsed": false,
    "pycharm": {
     "name": "#%%\n"
    }
   }
  }
 ],
 "metadata": {
  "kernelspec": {
   "display_name": "Python 3",
   "language": "python",
   "name": "python3"
  },
  "language_info": {
   "codemirror_mode": {
    "name": "ipython",
    "version": 2
   },
   "file_extension": ".py",
   "mimetype": "text/x-python",
   "name": "python",
   "nbconvert_exporter": "python",
   "pygments_lexer": "ipython2",
   "version": "2.7.6"
  }
 },
 "nbformat": 4,
 "nbformat_minor": 0
}