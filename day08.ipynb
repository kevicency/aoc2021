{
 "cells": [
  {
   "cell_type": "code",
   "execution_count": 2,
   "metadata": {
    "collapsed": true
   },
   "outputs": [],
   "source": [
    "from functools import reduce\n",
    "from itertools import permutations\n",
    "\n",
    "from aoc import submit, raw\n",
    "from collections import defaultdict\n",
    "\n",
    "DAY = 8\n",
    "INPUT = [[patterns.strip().split() for patterns in line.split('|')] for line in raw(day=DAY).splitlines()]"
   ]
  },
  {
   "cell_type": "code",
   "execution_count": 3,
   "outputs": [
    {
     "name": "stdout",
     "output_type": "stream",
     "text": [
      "part_one: 440 (0.16 ms)\n",
      "✅ That's the right answer!\n"
     ]
    }
   ],
   "source": [
    "@submit(day=DAY)\n",
    "def part_one():\n",
    "    return sum([sum(len(o) in [2, 3, 4, 7] for o in outputs) for [_, outputs] in INPUT])"
   ],
   "metadata": {
    "collapsed": false,
    "pycharm": {
     "name": "#%%\n"
    }
   }
  },
  {
   "cell_type": "code",
   "execution_count": 6,
   "outputs": [
    {
     "name": "stdout",
     "output_type": "stream",
     "text": [
      "part_two: 1046281 (6.45 ms)\n",
      "✅ That's the right answer!\n"
     ]
    }
   ],
   "source": [
    "DIGITS = {s: i for i, s in\n",
    "          enumerate(['abcefg', 'cf', 'acdeg', 'acdfg', 'bcdf', 'abdfg', 'abdefg', 'acf', 'abcdefg', 'abcdfg'])}\n",
    "\n",
    "def group_by(seq, key):\n",
    "    return reduce(lambda grp, val: grp[key(val)].append(val) or grp, seq, defaultdict(list))\n",
    "def occurrences(seq):\n",
    "    return [(c, sum(c in s for s in seq)) for c in set.union(*seq)]\n",
    "def get_subs(segments):\n",
    "    segments_by_length = group_by([set(s) for s in segments], lambda s: len(s))\n",
    "    one, four, seven = (segments_by_length[x][0] for x in [2, 4, 3])\n",
    "    subs = {set.difference(seven, one).pop(): 'a'}\n",
    "\n",
    "    for x, count in occurrences(segments_by_length[6]):\n",
    "        match (count, x in one, x in four):\n",
    "            case (2, True, _): subs[x] = 'c'\n",
    "            case (3, True, _): subs[x] = 'f'\n",
    "            case (2, _, True): subs[x] = 'd'\n",
    "            case (3, _, True): subs[x] = 'b'\n",
    "    for x, count in occurrences([s.difference(subs.keys()) for s in segments_by_length[5]]):\n",
    "        if count == 1: subs[x] = 'e'\n",
    "        if count == 3: subs[x] = 'g'\n",
    "\n",
    "    return subs\n",
    "\n",
    "@submit(day=DAY)\n",
    "def part_two():\n",
    "    result = 0\n",
    "    for [segments, outputs] in INPUT:\n",
    "        subs = get_subs(segments)\n",
    "        for i, output in enumerate(outputs):\n",
    "            digit = DIGITS[''.join(sorted([subs[o] for o in output]))]\n",
    "            result += digit * (10 ** (len(outputs) - 1 - i))\n",
    "    return result"
   ],
   "metadata": {
    "collapsed": false,
    "pycharm": {
     "name": "#%%\n"
    }
   }
  }
 ],
 "metadata": {
  "kernelspec": {
   "display_name": "Python 3",
   "language": "python",
   "name": "python3"
  },
  "language_info": {
   "codemirror_mode": {
    "name": "ipython",
    "version": 2
   },
   "file_extension": ".py",
   "mimetype": "text/x-python",
   "name": "python",
   "nbconvert_exporter": "python",
   "pygments_lexer": "ipython2",
   "version": "2.7.6"
  }
 },
 "nbformat": 4,
 "nbformat_minor": 0
}